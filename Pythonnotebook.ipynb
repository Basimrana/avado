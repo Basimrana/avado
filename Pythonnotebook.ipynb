{
  "nbformat": 4,
  "nbformat_minor": 0,
  "metadata": {
    "colab": {
      "provenance": [],
      "authorship_tag": "ABX9TyN3+Kx/Ae1s+H3Q12X1VrhC",
      "include_colab_link": true
    },
    "kernelspec": {
      "name": "python3",
      "display_name": "Python 3"
    },
    "language_info": {
      "name": "python"
    }
  },
  "cells": [
    {
      "cell_type": "markdown",
      "metadata": {
        "id": "view-in-github",
        "colab_type": "text"
      },
      "source": [
        "<a href=\"https://colab.research.google.com/github/Basimrana/avado/blob/main/Pythonnotebook.ipynb\" target=\"_parent\"><img src=\"https://colab.research.google.com/assets/colab-badge.svg\" alt=\"Open In Colab\"/></a>"
      ]
    },
    {
      "cell_type": "markdown",
      "source": [
        "## ***Introduction to Python***"
      ],
      "metadata": {
        "id": "W6wAIuXF92MA"
      }
    },
    {
      "cell_type": "code",
      "source": [
        "8**2"
      ],
      "metadata": {
        "colab": {
          "base_uri": "https://localhost:8080/"
        },
        "id": "6vDnIF3J_BJP",
        "outputId": "a315f0a5-b919-41af-a065-d7c619a70e37"
      },
      "execution_count": null,
      "outputs": [
        {
          "output_type": "execute_result",
          "data": {
            "text/plain": [
              "64"
            ]
          },
          "metadata": {},
          "execution_count": 19
        }
      ]
    },
    {
      "cell_type": "code",
      "source": [
        "16/4"
      ],
      "metadata": {
        "colab": {
          "base_uri": "https://localhost:8080/"
        },
        "id": "FFmGLQKi_G7J",
        "outputId": "f62aa699-d433-4d79-e291-38288c2ebbf2"
      },
      "execution_count": null,
      "outputs": [
        {
          "output_type": "execute_result",
          "data": {
            "text/plain": [
              "4.0"
            ]
          },
          "metadata": {},
          "execution_count": 21
        }
      ]
    },
    {
      "cell_type": "markdown",
      "source": [
        "**Introduction to Colab**"
      ],
      "metadata": {
        "id": "gqoqaCT5_e0H"
      }
    },
    {
      "cell_type": "code",
      "source": [
        "print (\"fast bootcamp\")"
      ],
      "metadata": {
        "colab": {
          "base_uri": "https://localhost:8080/"
        },
        "id": "5185NKwsAAZV",
        "outputId": "5535a800-a489-4ece-a522-44d74f37b54f"
      },
      "execution_count": null,
      "outputs": [
        {
          "output_type": "stream",
          "name": "stdout",
          "text": [
            "fast bootcamp\n"
          ]
        }
      ]
    },
    {
      "cell_type": "code",
      "source": [
        "8+90"
      ],
      "metadata": {
        "colab": {
          "base_uri": "https://localhost:8080/"
        },
        "id": "HB24td3wAMRd",
        "outputId": "1fe64dff-0546-44ae-fec6-b763f01d7aed"
      },
      "execution_count": null,
      "outputs": [
        {
          "output_type": "execute_result",
          "data": {
            "text/plain": [
              "98"
            ]
          },
          "metadata": {},
          "execution_count": 24
        }
      ]
    },
    {
      "cell_type": "markdown",
      "source": [
        "# Data Types"
      ],
      "metadata": {
        "id": "qNjG72fsF8Lx"
      }
    },
    {
      "cell_type": "code",
      "source": [
        "type(2)"
      ],
      "metadata": {
        "colab": {
          "base_uri": "https://localhost:8080/"
        },
        "id": "YACvr-EPF_kD",
        "outputId": "00c22081-16d8-44d9-d264-26f135426f63"
      },
      "execution_count": null,
      "outputs": [
        {
          "output_type": "execute_result",
          "data": {
            "text/plain": [
              "int"
            ]
          },
          "metadata": {},
          "execution_count": 36
        }
      ]
    },
    {
      "cell_type": "code",
      "source": [
        "type(2.0)"
      ],
      "metadata": {
        "colab": {
          "base_uri": "https://localhost:8080/"
        },
        "id": "1pxWfHv_GCd9",
        "outputId": "83fb1607-294e-490a-dfc5-2e25db4c4d7b"
      },
      "execution_count": null,
      "outputs": [
        {
          "output_type": "execute_result",
          "data": {
            "text/plain": [
              "float"
            ]
          },
          "metadata": {},
          "execution_count": 38
        }
      ]
    },
    {
      "cell_type": "code",
      "source": [
        "type(True)"
      ],
      "metadata": {
        "colab": {
          "base_uri": "https://localhost:8080/"
        },
        "id": "-zUn1KflGFXE",
        "outputId": "9335dfa1-ca0b-4f66-c4a8-7b8f3a4688f8"
      },
      "execution_count": null,
      "outputs": [
        {
          "output_type": "execute_result",
          "data": {
            "text/plain": [
              "bool"
            ]
          },
          "metadata": {},
          "execution_count": 44
        }
      ]
    },
    {
      "cell_type": "code",
      "source": [
        "type({1,2,3})"
      ],
      "metadata": {
        "colab": {
          "base_uri": "https://localhost:8080/"
        },
        "id": "1Ro3jHB_GTnJ",
        "outputId": "3c202905-53b8-4001-be23-9c115dfe5c53"
      },
      "execution_count": null,
      "outputs": [
        {
          "output_type": "execute_result",
          "data": {
            "text/plain": [
              "set"
            ]
          },
          "metadata": {},
          "execution_count": 46
        }
      ]
    },
    {
      "cell_type": "code",
      "source": [
        "type([1,2,3])"
      ],
      "metadata": {
        "colab": {
          "base_uri": "https://localhost:8080/"
        },
        "id": "NL8DbkoZGdav",
        "outputId": "94f40a26-ead2-4482-ad2d-2086ed7851c4"
      },
      "execution_count": null,
      "outputs": [
        {
          "output_type": "execute_result",
          "data": {
            "text/plain": [
              "list"
            ]
          },
          "metadata": {},
          "execution_count": 47
        }
      ]
    },
    {
      "cell_type": "code",
      "source": [
        "type((1,2,3))"
      ],
      "metadata": {
        "colab": {
          "base_uri": "https://localhost:8080/"
        },
        "id": "JFDY6XeIGsN-",
        "outputId": "a4a94544-aeeb-4a39-ca64-7b0e7860f047"
      },
      "execution_count": null,
      "outputs": [
        {
          "output_type": "execute_result",
          "data": {
            "text/plain": [
              "tuple"
            ]
          },
          "metadata": {},
          "execution_count": 48
        }
      ]
    },
    {
      "cell_type": "code",
      "source": [
        "\"hello world!\""
      ],
      "metadata": {
        "colab": {
          "base_uri": "https://localhost:8080/",
          "height": 36
        },
        "id": "nUW6ZG5dGt4s",
        "outputId": "f50dde20-acf1-483d-9017-fc9d1d03b4f2"
      },
      "execution_count": null,
      "outputs": [
        {
          "output_type": "execute_result",
          "data": {
            "text/plain": [
              "'hello world!'"
            ],
            "application/vnd.google.colaboratory.intrinsic+json": {
              "type": "string"
            }
          },
          "metadata": {},
          "execution_count": 50
        }
      ]
    },
    {
      "cell_type": "code",
      "source": [
        "type(\"nizam hoe\")"
      ],
      "metadata": {
        "colab": {
          "base_uri": "https://localhost:8080/"
        },
        "id": "8FjCmWtLGxKD",
        "outputId": "383afdb4-4a0f-47a6-9b88-1ddc7f83bbf0"
      },
      "execution_count": null,
      "outputs": [
        {
          "output_type": "execute_result",
          "data": {
            "text/plain": [
              "str"
            ]
          },
          "metadata": {},
          "execution_count": 51
        }
      ]
    },
    {
      "cell_type": "markdown",
      "source": [
        "**String**"
      ],
      "metadata": {
        "id": "wQWUjTIPHcL8"
      }
    },
    {
      "cell_type": "code",
      "source": [
        "print (\"hello this is basim and i am learning how to use python\")"
      ],
      "metadata": {
        "colab": {
          "base_uri": "https://localhost:8080/"
        },
        "id": "lcuoxho5Hd7j",
        "outputId": "94f18e90-dbc9-4106-8b1b-8ef09c2f1429"
      },
      "execution_count": null,
      "outputs": [
        {
          "output_type": "stream",
          "name": "stdout",
          "text": [
            "hello this is basim and i am learning how to use python\n"
          ]
        }
      ]
    },
    {
      "cell_type": "code",
      "source": [
        "countryname=\"United kingdom\"\n",
        "name=\"Mercy\"\n",
        "print(countryname)\n",
        "print(name)"
      ],
      "metadata": {
        "colab": {
          "base_uri": "https://localhost:8080/"
        },
        "id": "-9gHTC8aHlEp",
        "outputId": "d1ffde9c-6e74-490c-b63f-0789a4853883"
      },
      "execution_count": null,
      "outputs": [
        {
          "output_type": "stream",
          "name": "stdout",
          "text": [
            "United kingdom\n",
            "Mercy\n"
          ]
        }
      ]
    },
    {
      "cell_type": "code",
      "source": [
        "country=\"Pakistan\"\n",
        "name=\"Basim\"\n",
        "age=\"24\"\n",
        "profession=\"Student\"\n",
        "dog=\"Poodle\"\n",
        "console=\"Ps5\"\n",
        "print(country)\n",
        "print(name)\n",
        "print(age)\n",
        "print(profession)\n",
        "print(dog)\n",
        "print(console)"
      ],
      "metadata": {
        "colab": {
          "base_uri": "https://localhost:8080/"
        },
        "id": "k4J4o1ibIYUB",
        "outputId": "9ea48488-c815-4fdb-bd9c-8c97c6eaf4e5"
      },
      "execution_count": null,
      "outputs": [
        {
          "output_type": "stream",
          "name": "stdout",
          "text": [
            "Pakistan\n",
            "Basim\n",
            "24\n",
            "Student\n",
            "Poodle\n",
            "Ps5\n"
          ]
        }
      ]
    },
    {
      "cell_type": "code",
      "source": [
        "#len\n",
        "len(country)"
      ],
      "metadata": {
        "colab": {
          "base_uri": "https://localhost:8080/"
        },
        "id": "_lhhknGbJOyT",
        "outputId": "70642c8c-0c82-45d5-ac95-c5c9f7834bbd"
      },
      "execution_count": null,
      "outputs": [
        {
          "output_type": "execute_result",
          "data": {
            "text/plain": [
              "8"
            ]
          },
          "metadata": {},
          "execution_count": 64
        }
      ]
    },
    {
      "cell_type": "code",
      "source": [
        "#len\n",
        "print(len(country))\n",
        "print(len(name))"
      ],
      "metadata": {
        "colab": {
          "base_uri": "https://localhost:8080/"
        },
        "id": "S6Btruy3KYds",
        "outputId": "bc5b8591-811e-457b-edfc-c38729166c49"
      },
      "execution_count": null,
      "outputs": [
        {
          "output_type": "stream",
          "name": "stdout",
          "text": [
            "8\n",
            "5\n"
          ]
        }
      ]
    },
    {
      "cell_type": "code",
      "source": [
        "number=40\n",
        "type(number)"
      ],
      "metadata": {
        "colab": {
          "base_uri": "https://localhost:8080/"
        },
        "id": "xYLRrKAPMLTC",
        "outputId": "e0ee77ce-251b-43ca-cf82-9bd5852e6005"
      },
      "execution_count": null,
      "outputs": [
        {
          "output_type": "execute_result",
          "data": {
            "text/plain": [
              "int"
            ]
          },
          "metadata": {},
          "execution_count": 71
        }
      ]
    },
    {
      "cell_type": "code",
      "source": [
        "str(number)"
      ],
      "metadata": {
        "colab": {
          "base_uri": "https://localhost:8080/",
          "height": 36
        },
        "id": "VCiOVhbeMYGV",
        "outputId": "2943bcf0-b4fc-47e5-ec01-be9eb472ecaf"
      },
      "execution_count": null,
      "outputs": [
        {
          "output_type": "execute_result",
          "data": {
            "text/plain": [
              "'40'"
            ],
            "application/vnd.google.colaboratory.intrinsic+json": {
              "type": "string"
            }
          },
          "metadata": {},
          "execution_count": 73
        }
      ]
    },
    {
      "cell_type": "code",
      "source": [
        "myfloat=15.0"
      ],
      "metadata": {
        "id": "Ynge_DOSMe3Z"
      },
      "execution_count": null,
      "outputs": []
    },
    {
      "cell_type": "code",
      "source": [
        "float(number)"
      ],
      "metadata": {
        "colab": {
          "base_uri": "https://localhost:8080/"
        },
        "id": "pdRCin2YMu0v",
        "outputId": "bd1c5530-ca07-4c71-c47e-25a9e4ac038d"
      },
      "execution_count": null,
      "outputs": [
        {
          "output_type": "execute_result",
          "data": {
            "text/plain": [
              "40.0"
            ]
          },
          "metadata": {},
          "execution_count": 76
        }
      ]
    },
    {
      "cell_type": "code",
      "source": [
        "int(myfloat)"
      ],
      "metadata": {
        "colab": {
          "base_uri": "https://localhost:8080/"
        },
        "id": "I13n1SMWMxrA",
        "outputId": "6760cf55-065c-47f4-8800-15ef48ca0a93"
      },
      "execution_count": null,
      "outputs": [
        {
          "output_type": "execute_result",
          "data": {
            "text/plain": [
              "15"
            ]
          },
          "metadata": {},
          "execution_count": 79
        }
      ]
    },
    {
      "cell_type": "markdown",
      "source": [
        "*Special Characters: String*"
      ],
      "metadata": {
        "id": "l6c287V5NhBi"
      }
    },
    {
      "cell_type": "code",
      "source": [
        "print(\"my name is \\\"Basu\\\"\")"
      ],
      "metadata": {
        "colab": {
          "base_uri": "https://localhost:8080/"
        },
        "id": "R9GeXdnPNkfu",
        "outputId": "f52a7e09-685e-4770-ef0e-076b972da1b2"
      },
      "execution_count": null,
      "outputs": [
        {
          "output_type": "stream",
          "name": "stdout",
          "text": [
            "my name is \"Basu\"\n"
          ]
        }
      ]
    },
    {
      "cell_type": "code",
      "source": [
        "print(\"my final CGPA is \\\"3.45\\\"\")"
      ],
      "metadata": {
        "colab": {
          "base_uri": "https://localhost:8080/"
        },
        "id": "IID9m-vFN7TN",
        "outputId": "078d7d30-a220-4706-d073-55d4cef6431c"
      },
      "execution_count": null,
      "outputs": [
        {
          "output_type": "stream",
          "name": "stdout",
          "text": [
            "my final CGPA is \"3.45\"\n"
          ]
        }
      ]
    },
    {
      "cell_type": "code",
      "source": [
        "print(\"Basi'm\")"
      ],
      "metadata": {
        "colab": {
          "base_uri": "https://localhost:8080/"
        },
        "id": "Cq3Fp5R2O8eH",
        "outputId": "42e49b2a-d13f-41dd-86e3-511c50d66b8d"
      },
      "execution_count": null,
      "outputs": [
        {
          "output_type": "stream",
          "name": "stdout",
          "text": [
            "Basi'm\n"
          ]
        }
      ]
    },
    {
      "cell_type": "code",
      "source": [
        "print(\"My p \\profession is Doctor\")"
      ],
      "metadata": {
        "colab": {
          "base_uri": "https://localhost:8080/"
        },
        "id": "Wj8EBKjEPCzp",
        "outputId": "fbfba20e-1712-4f5c-a230-c3432a990067"
      },
      "execution_count": null,
      "outputs": [
        {
          "output_type": "stream",
          "name": "stdout",
          "text": [
            "My p \\profession is Doctor\n"
          ]
        }
      ]
    },
    {
      "cell_type": "code",
      "source": [
        "print(\"My name is Logan \\nI like Python\")"
      ],
      "metadata": {
        "colab": {
          "base_uri": "https://localhost:8080/"
        },
        "id": "V1oFeSSRPTtg",
        "outputId": "c3945b15-7030-41e3-acd9-ea1b5076eede"
      },
      "execution_count": null,
      "outputs": [
        {
          "output_type": "stream",
          "name": "stdout",
          "text": [
            "My name is Logan \n",
            "I like Python\n"
          ]
        }
      ]
    },
    {
      "cell_type": "code",
      "source": [
        "print(\"n new b back t tab c carraige\")"
      ],
      "metadata": {
        "colab": {
          "base_uri": "https://localhost:8080/"
        },
        "id": "QpVyA5J2QBR5",
        "outputId": "57155c24-e4ff-4d97-932b-dbd6c8c87277"
      },
      "execution_count": null,
      "outputs": [
        {
          "output_type": "stream",
          "name": "stdout",
          "text": [
            "n new b back t tab c carraige\n"
          ]
        }
      ]
    },
    {
      "cell_type": "markdown",
      "source": [
        "# Index and Slicing"
      ],
      "metadata": {
        "id": "0Cmn6a_HQgy3"
      }
    },
    {
      "cell_type": "code",
      "source": [
        "name=\"Hello\"\n",
        "name[0:4]"
      ],
      "metadata": {
        "colab": {
          "base_uri": "https://localhost:8080/",
          "height": 36
        },
        "id": "gseEMibsQirk",
        "outputId": "d156b49d-0894-4c53-8602-8860fbf1f82d"
      },
      "execution_count": null,
      "outputs": [
        {
          "output_type": "execute_result",
          "data": {
            "text/plain": [
              "'Hell'"
            ],
            "application/vnd.google.colaboratory.intrinsic+json": {
              "type": "string"
            }
          },
          "metadata": {},
          "execution_count": 107
        }
      ]
    },
    {
      "cell_type": "code",
      "source": [
        "name=\"Hello\"\n",
        "name[0::3]"
      ],
      "metadata": {
        "colab": {
          "base_uri": "https://localhost:8080/",
          "height": 36
        },
        "id": "tm-ZghJCTUWw",
        "outputId": "8f40255e-1b23-42e5-c5c8-a1567f501e4c"
      },
      "execution_count": null,
      "outputs": [
        {
          "output_type": "execute_result",
          "data": {
            "text/plain": [
              "'Hl'"
            ],
            "application/vnd.google.colaboratory.intrinsic+json": {
              "type": "string"
            }
          },
          "metadata": {},
          "execution_count": 108
        }
      ]
    },
    {
      "cell_type": "code",
      "source": [
        "name[1::3]"
      ],
      "metadata": {
        "colab": {
          "base_uri": "https://localhost:8080/",
          "height": 36
        },
        "id": "0aukdCNlTwgu",
        "outputId": "a582da55-5850-4be7-8d25-27ba7ade6684"
      },
      "execution_count": null,
      "outputs": [
        {
          "output_type": "execute_result",
          "data": {
            "text/plain": [
              "'eo'"
            ],
            "application/vnd.google.colaboratory.intrinsic+json": {
              "type": "string"
            }
          },
          "metadata": {},
          "execution_count": 116
        }
      ]
    },
    {
      "cell_type": "code",
      "source": [
        "name[0:2]"
      ],
      "metadata": {
        "colab": {
          "base_uri": "https://localhost:8080/",
          "height": 36
        },
        "id": "nJZxHGoXURSY",
        "outputId": "851394f4-7834-470d-b0d1-73ee86223377"
      },
      "execution_count": null,
      "outputs": [
        {
          "output_type": "execute_result",
          "data": {
            "text/plain": [
              "'He'"
            ],
            "application/vnd.google.colaboratory.intrinsic+json": {
              "type": "string"
            }
          },
          "metadata": {},
          "execution_count": 118
        }
      ]
    },
    {
      "cell_type": "code",
      "source": [
        "code = \"123478\"\n",
        "code[::-1]"
      ],
      "metadata": {
        "colab": {
          "base_uri": "https://localhost:8080/",
          "height": 36
        },
        "id": "Nj7g-V-DUUyz",
        "outputId": "e704e5b3-b52c-49ad-c3a6-c6da579edfbf"
      },
      "execution_count": null,
      "outputs": [
        {
          "output_type": "execute_result",
          "data": {
            "text/plain": [
              "'874321'"
            ],
            "application/vnd.google.colaboratory.intrinsic+json": {
              "type": "string"
            }
          },
          "metadata": {},
          "execution_count": 134
        }
      ]
    },
    {
      "cell_type": "code",
      "source": [
        "code[::-2]"
      ],
      "metadata": {
        "colab": {
          "base_uri": "https://localhost:8080/",
          "height": 36
        },
        "id": "WQ71QRBBVEVx",
        "outputId": "842a571c-1178-41f4-c9ab-2faac1462306"
      },
      "execution_count": null,
      "outputs": [
        {
          "output_type": "execute_result",
          "data": {
            "text/plain": [
              "'842'"
            ],
            "application/vnd.google.colaboratory.intrinsic+json": {
              "type": "string"
            }
          },
          "metadata": {},
          "execution_count": 137
        }
      ]
    },
    {
      "cell_type": "code",
      "source": [
        "a=\"Python\"\n",
        "b=\"version 3\""
      ],
      "metadata": {
        "id": "VQyoAL01Z2Bg"
      },
      "execution_count": null,
      "outputs": []
    },
    {
      "cell_type": "code",
      "source": [
        "print(a+\" \"+b)"
      ],
      "metadata": {
        "colab": {
          "base_uri": "https://localhost:8080/"
        },
        "id": "yZghdhydaPnN",
        "outputId": "e16e082c-a5ca-4ce2-de11-7908ea36dc0c"
      },
      "execution_count": null,
      "outputs": [
        {
          "output_type": "stream",
          "name": "stdout",
          "text": [
            "Python version 3\n"
          ]
        }
      ]
    },
    {
      "cell_type": "code",
      "source": [
        "string=(\"Write this 10 times\\n\")*10\n",
        "print(string)"
      ],
      "metadata": {
        "colab": {
          "base_uri": "https://localhost:8080/"
        },
        "id": "7oydhivZaSTN",
        "outputId": "68dca847-204e-4959-f3c7-20bba0958c1f"
      },
      "execution_count": null,
      "outputs": [
        {
          "output_type": "stream",
          "name": "stdout",
          "text": [
            "Write this 10 times\n",
            "Write this 10 times\n",
            "Write this 10 times\n",
            "Write this 10 times\n",
            "Write this 10 times\n",
            "Write this 10 times\n",
            "Write this 10 times\n",
            "Write this 10 times\n",
            "Write this 10 times\n",
            "Write this 10 times\n",
            "\n"
          ]
        }
      ]
    },
    {
      "cell_type": "code",
      "source": [
        "name1=\"Hellp\"\n",
        "name1[4]='o'"
      ],
      "metadata": {
        "colab": {
          "base_uri": "https://localhost:8080/",
          "height": 189
        },
        "id": "zWlw00xva34c",
        "outputId": "85b3baa2-377f-44bf-8f62-8500c1a2529b"
      },
      "execution_count": null,
      "outputs": [
        {
          "output_type": "error",
          "ename": "TypeError",
          "evalue": "ignored",
          "traceback": [
            "\u001b[0;31m---------------------------------------------------------------------------\u001b[0m",
            "\u001b[0;31mTypeError\u001b[0m                                 Traceback (most recent call last)",
            "\u001b[0;32m<ipython-input-155-4543d11c29f7>\u001b[0m in \u001b[0;36m<cell line: 2>\u001b[0;34m()\u001b[0m\n\u001b[1;32m      1\u001b[0m \u001b[0mname1\u001b[0m\u001b[0;34m=\u001b[0m\u001b[0;34m\"Hellp\"\u001b[0m\u001b[0;34m\u001b[0m\u001b[0;34m\u001b[0m\u001b[0m\n\u001b[0;32m----> 2\u001b[0;31m \u001b[0mname1\u001b[0m\u001b[0;34m[\u001b[0m\u001b[0;36m4\u001b[0m\u001b[0;34m]\u001b[0m\u001b[0;34m=\u001b[0m\u001b[0;34m'o'\u001b[0m\u001b[0;34m\u001b[0m\u001b[0;34m\u001b[0m\u001b[0m\n\u001b[0m",
            "\u001b[0;31mTypeError\u001b[0m: 'str' object does not support item assignment"
          ]
        }
      ]
    },
    {
      "cell_type": "code",
      "source": [
        "name2=\"Hello\""
      ],
      "metadata": {
        "id": "a8xpQPFmcarz"
      },
      "execution_count": null,
      "outputs": []
    },
    {
      "cell_type": "code",
      "source": [
        "name2.lower()"
      ],
      "metadata": {
        "colab": {
          "base_uri": "https://localhost:8080/",
          "height": 36
        },
        "id": "4r-zqzehdHWC",
        "outputId": "4f0d1f79-4d2b-4bd6-99fe-6449c678c361"
      },
      "execution_count": null,
      "outputs": [
        {
          "output_type": "execute_result",
          "data": {
            "text/plain": [
              "'hello'"
            ],
            "application/vnd.google.colaboratory.intrinsic+json": {
              "type": "string"
            }
          },
          "metadata": {},
          "execution_count": 160
        }
      ]
    },
    {
      "cell_type": "code",
      "source": [
        "name2.count(\"l\")"
      ],
      "metadata": {
        "colab": {
          "base_uri": "https://localhost:8080/"
        },
        "id": "VCr-X9rQdvCW",
        "outputId": "7752a8ff-b615-49ff-9690-48f831587437"
      },
      "execution_count": null,
      "outputs": [
        {
          "output_type": "execute_result",
          "data": {
            "text/plain": [
              "2"
            ]
          },
          "metadata": {},
          "execution_count": 162
        }
      ]
    },
    {
      "cell_type": "code",
      "source": [
        "radius=5\n",
        "pi=3.142\n",
        "circum=2*pi*radius\n",
        "area=pi*radius**2\n",
        "print(area)\n",
        "print(circum)"
      ],
      "metadata": {
        "colab": {
          "base_uri": "https://localhost:8080/"
        },
        "id": "UwT9Yja7d02z",
        "outputId": "41888f62-f856-469e-fa8a-dbc3455f45cf"
      },
      "execution_count": null,
      "outputs": [
        {
          "output_type": "stream",
          "name": "stdout",
          "text": [
            "78.55\n",
            "31.419999999999998\n"
          ]
        }
      ]
    },
    {
      "cell_type": "code",
      "source": [
        "height=6\n",
        "weight=80\n",
        "age=24\n",
        "BMI=weight/height**2\n",
        "print(BMI)"
      ],
      "metadata": {
        "colab": {
          "base_uri": "https://localhost:8080/"
        },
        "id": "GX-1dnSnfFJD",
        "outputId": "17b90013-2554-434a-bd88-382ce02522f3"
      },
      "execution_count": null,
      "outputs": [
        {
          "output_type": "stream",
          "name": "stdout",
          "text": [
            "2.2222222222222223\n"
          ]
        }
      ]
    },
    {
      "cell_type": "code",
      "source": [
        "name1.replace(\"p\",\"o\").replace(\"l\",\"s\")"
      ],
      "metadata": {
        "colab": {
          "base_uri": "https://localhost:8080/",
          "height": 36
        },
        "id": "CUpG8T72fz86",
        "outputId": "73133747-71a6-4481-aa13-cc6c02520197"
      },
      "execution_count": null,
      "outputs": [
        {
          "output_type": "execute_result",
          "data": {
            "text/plain": [
              "'Hesso'"
            ],
            "application/vnd.google.colaboratory.intrinsic+json": {
              "type": "string"
            }
          },
          "metadata": {},
          "execution_count": 173
        }
      ]
    },
    {
      "cell_type": "markdown",
      "source": [
        "# Formatting"
      ],
      "metadata": {
        "id": "DdRPi6mogZXu"
      }
    },
    {
      "cell_type": "code",
      "source": [
        "i=\"I am {}\"\n",
        "age =40\n",
        "i.format(age)"
      ],
      "metadata": {
        "colab": {
          "base_uri": "https://localhost:8080/",
          "height": 36
        },
        "id": "jgyFx6Ucgb2A",
        "outputId": "bdb42bb5-2c4b-41eb-dc78-38b5864e8477"
      },
      "execution_count": null,
      "outputs": [
        {
          "output_type": "execute_result",
          "data": {
            "text/plain": [
              "'I am 40'"
            ],
            "application/vnd.google.colaboratory.intrinsic+json": {
              "type": "string"
            }
          },
          "metadata": {},
          "execution_count": 179
        }
      ]
    },
    {
      "cell_type": "code",
      "source": [
        "i=\"My Salary will be {}\"\n",
        "pay=4000\n",
        "i.format(pay)"
      ],
      "metadata": {
        "colab": {
          "base_uri": "https://localhost:8080/",
          "height": 36
        },
        "id": "8yUn5aTZhASY",
        "outputId": "b69104b3-87b9-4d76-d1e9-4a383aee709f"
      },
      "execution_count": null,
      "outputs": [
        {
          "output_type": "execute_result",
          "data": {
            "text/plain": [
              "'My Salary will be 4000'"
            ],
            "application/vnd.google.colaboratory.intrinsic+json": {
              "type": "string"
            }
          },
          "metadata": {},
          "execution_count": 182
        }
      ]
    },
    {
      "cell_type": "code",
      "source": [
        "pay=\"Salary\"\n",
        "wages=5000\n",
        "string4=\"My {} will be {} next May\"\n",
        "string4.format(pay,wages)"
      ],
      "metadata": {
        "colab": {
          "base_uri": "https://localhost:8080/",
          "height": 36
        },
        "id": "IPCxS2kmhasx",
        "outputId": "33ee4265-301d-4dbb-8ce1-e1faf0d22a11"
      },
      "execution_count": null,
      "outputs": [
        {
          "output_type": "execute_result",
          "data": {
            "text/plain": [
              "'My Salary will be 5000 next May'"
            ],
            "application/vnd.google.colaboratory.intrinsic+json": {
              "type": "string"
            }
          },
          "metadata": {},
          "execution_count": 184
        }
      ]
    },
    {
      "cell_type": "code",
      "source": [
        "#%a.%s,%f,%d\n",
        "print(\"my %s will be %d next April\"%(\"pay\",5000))"
      ],
      "metadata": {
        "colab": {
          "base_uri": "https://localhost:8080/"
        },
        "id": "f5yroUIWhxpX",
        "outputId": "730461f4-2d1c-4078-8ad6-54d8dcbfa587"
      },
      "execution_count": null,
      "outputs": [
        {
          "output_type": "stream",
          "name": "stdout",
          "text": [
            "my pay will be 5000 next April\n"
          ]
        }
      ]
    },
    {
      "cell_type": "markdown",
      "source": [
        "## Python Operations"
      ],
      "metadata": {
        "id": "KOuczY6TlI97"
      }
    },
    {
      "cell_type": "code",
      "source": [
        "PEDMAS OR BODMAS"
      ],
      "metadata": {
        "colab": {
          "base_uri": "https://localhost:8080/",
          "height": 134
        },
        "id": "AIFe4_NblOls",
        "outputId": "678b7d30-66a1-402a-cd12-e60cec86b1ef"
      },
      "execution_count": null,
      "outputs": [
        {
          "output_type": "error",
          "ename": "SyntaxError",
          "evalue": "ignored",
          "traceback": [
            "\u001b[0;36m  File \u001b[0;32m\"<ipython-input-188-7d26824999c2>\"\u001b[0;36m, line \u001b[0;32m1\u001b[0m\n\u001b[0;31m    PEDMAS OR BODMAS\u001b[0m\n\u001b[0m           ^\u001b[0m\n\u001b[0;31mSyntaxError\u001b[0m\u001b[0;31m:\u001b[0m invalid syntax\n"
          ]
        }
      ]
    },
    {
      "cell_type": "code",
      "source": [
        "67/1.5"
      ],
      "metadata": {
        "colab": {
          "base_uri": "https://localhost:8080/"
        },
        "id": "UrDOovuJlTvC",
        "outputId": "3085541f-053e-4389-c2eb-214f4dd484e8"
      },
      "execution_count": null,
      "outputs": [
        {
          "output_type": "execute_result",
          "data": {
            "text/plain": [
              "44.666666666666664"
            ]
          },
          "metadata": {},
          "execution_count": 189
        }
      ]
    },
    {
      "cell_type": "code",
      "source": [
        "5%2"
      ],
      "metadata": {
        "colab": {
          "base_uri": "https://localhost:8080/"
        },
        "id": "VtLB-x6MlZSd",
        "outputId": "f61d0c3b-93c9-44f0-903f-2fc7ce20bd90"
      },
      "execution_count": null,
      "outputs": [
        {
          "output_type": "execute_result",
          "data": {
            "text/plain": [
              "1"
            ]
          },
          "metadata": {},
          "execution_count": 190
        }
      ]
    },
    {
      "cell_type": "code",
      "source": [
        "6%3"
      ],
      "metadata": {
        "colab": {
          "base_uri": "https://localhost:8080/"
        },
        "id": "y-dgVUC1lbny",
        "outputId": "1b42cff5-bf06-448d-d12c-cdfd4b5b8c89"
      },
      "execution_count": null,
      "outputs": [
        {
          "output_type": "execute_result",
          "data": {
            "text/plain": [
              "0"
            ]
          },
          "metadata": {},
          "execution_count": 191
        }
      ]
    },
    {
      "cell_type": "code",
      "source": [
        "7%3"
      ],
      "metadata": {
        "colab": {
          "base_uri": "https://localhost:8080/"
        },
        "id": "mnpdeDnUlc68",
        "outputId": "819e8d94-8ec5-476f-c081-86899aa6dd30"
      },
      "execution_count": null,
      "outputs": [
        {
          "output_type": "execute_result",
          "data": {
            "text/plain": [
              "1"
            ]
          },
          "metadata": {},
          "execution_count": 192
        }
      ]
    },
    {
      "cell_type": "code",
      "source": [
        "2**8"
      ],
      "metadata": {
        "colab": {
          "base_uri": "https://localhost:8080/"
        },
        "id": "9UVtSQGFlfMN",
        "outputId": "409be8f0-d7b1-4784-f923-6ef9bee34716"
      },
      "execution_count": null,
      "outputs": [
        {
          "output_type": "execute_result",
          "data": {
            "text/plain": [
              "256"
            ]
          },
          "metadata": {},
          "execution_count": 193
        }
      ]
    },
    {
      "cell_type": "code",
      "source": [
        "6**6"
      ],
      "metadata": {
        "colab": {
          "base_uri": "https://localhost:8080/"
        },
        "id": "tnMZSr6hlj6s",
        "outputId": "f46f7877-0e5c-4dbb-b8f1-0ffdb518b2fd"
      },
      "execution_count": null,
      "outputs": [
        {
          "output_type": "execute_result",
          "data": {
            "text/plain": [
              "46656"
            ]
          },
          "metadata": {},
          "execution_count": 194
        }
      ]
    },
    {
      "cell_type": "code",
      "source": [
        "6*6*6"
      ],
      "metadata": {
        "colab": {
          "base_uri": "https://localhost:8080/"
        },
        "id": "T0x9TS4Olnee",
        "outputId": "2fbba3b9-019a-4a2f-a71e-5d470bef5f58"
      },
      "execution_count": null,
      "outputs": [
        {
          "output_type": "execute_result",
          "data": {
            "text/plain": [
              "216"
            ]
          },
          "metadata": {},
          "execution_count": 195
        }
      ]
    },
    {
      "cell_type": "code",
      "source": [
        "6+2"
      ],
      "metadata": {
        "colab": {
          "base_uri": "https://localhost:8080/"
        },
        "id": "s-gRko1dlpcp",
        "outputId": "7f7680cf-d3c8-404e-a7fa-96248a99ef97"
      },
      "execution_count": null,
      "outputs": [
        {
          "output_type": "execute_result",
          "data": {
            "text/plain": [
              "8"
            ]
          },
          "metadata": {},
          "execution_count": 196
        }
      ]
    },
    {
      "cell_type": "code",
      "source": [
        "6-2"
      ],
      "metadata": {
        "colab": {
          "base_uri": "https://localhost:8080/"
        },
        "id": "hipqIklCl8ja",
        "outputId": "fab944a9-3a4e-41fc-87f1-b485a29025d8"
      },
      "execution_count": null,
      "outputs": [
        {
          "output_type": "execute_result",
          "data": {
            "text/plain": [
              "4"
            ]
          },
          "metadata": {},
          "execution_count": 198
        }
      ]
    },
    {
      "cell_type": "code",
      "source": [
        "4/2"
      ],
      "metadata": {
        "colab": {
          "base_uri": "https://localhost:8080/"
        },
        "id": "w4mPY0Wzl-Kp",
        "outputId": "e9ac2279-b3dd-4f96-82a3-ab099a4b5793"
      },
      "execution_count": null,
      "outputs": [
        {
          "output_type": "execute_result",
          "data": {
            "text/plain": [
              "2.0"
            ]
          },
          "metadata": {},
          "execution_count": 199
        }
      ]
    },
    {
      "cell_type": "code",
      "source": [
        "5%2"
      ],
      "metadata": {
        "colab": {
          "base_uri": "https://localhost:8080/"
        },
        "id": "1J0EPPCKl-9p",
        "outputId": "058bd2c9-74dd-46f1-d359-14afbbb4b0da"
      },
      "execution_count": null,
      "outputs": [
        {
          "output_type": "execute_result",
          "data": {
            "text/plain": [
              "1"
            ]
          },
          "metadata": {},
          "execution_count": 201
        }
      ]
    },
    {
      "cell_type": "code",
      "source": [
        "20%8"
      ],
      "metadata": {
        "colab": {
          "base_uri": "https://localhost:8080/"
        },
        "id": "9FAXBAN5mLNA",
        "outputId": "df93c6ee-e164-4dd7-f44c-73c75bdea6a0"
      },
      "execution_count": null,
      "outputs": [
        {
          "output_type": "execute_result",
          "data": {
            "text/plain": [
              "4"
            ]
          },
          "metadata": {},
          "execution_count": 202
        }
      ]
    },
    {
      "cell_type": "code",
      "source": [
        "8%3"
      ],
      "metadata": {
        "colab": {
          "base_uri": "https://localhost:8080/"
        },
        "id": "9AwrQtd1mW0_",
        "outputId": "2efc34fd-8e63-4baf-bde7-40ab80f57929"
      },
      "execution_count": null,
      "outputs": [
        {
          "output_type": "execute_result",
          "data": {
            "text/plain": [
              "2"
            ]
          },
          "metadata": {},
          "execution_count": 204
        }
      ]
    },
    {
      "cell_type": "code",
      "source": [
        "#PEDMAS\n",
        "#BODMAS\n",
        "(5+3*6.6/12)**2"
      ],
      "metadata": {
        "colab": {
          "base_uri": "https://localhost:8080/"
        },
        "id": "C_rVPot9mbQJ",
        "outputId": "e808ee35-5b85-40b1-fa5e-6f58edffe71d"
      },
      "execution_count": null,
      "outputs": [
        {
          "output_type": "execute_result",
          "data": {
            "text/plain": [
              "44.22249999999999"
            ]
          },
          "metadata": {},
          "execution_count": 205
        }
      ]
    },
    {
      "cell_type": "markdown",
      "source": [
        "## BOOLEN"
      ],
      "metadata": {
        "id": "wqwaFkTMnKlk"
      }
    },
    {
      "cell_type": "code",
      "source": [
        "5==7"
      ],
      "metadata": {
        "colab": {
          "base_uri": "https://localhost:8080/"
        },
        "id": "4MnXv_PuntBT",
        "outputId": "311bd01e-9550-4dff-e044-86fcc856e6a5"
      },
      "execution_count": null,
      "outputs": [
        {
          "output_type": "execute_result",
          "data": {
            "text/plain": [
              "False"
            ]
          },
          "metadata": {},
          "execution_count": 209
        }
      ]
    },
    {
      "cell_type": "code",
      "source": [
        "5!=7"
      ],
      "metadata": {
        "colab": {
          "base_uri": "https://localhost:8080/"
        },
        "id": "unNJWr0DnvP2",
        "outputId": "c5bbba89-9504-4b77-903d-be11597a975b"
      },
      "execution_count": null,
      "outputs": [
        {
          "output_type": "execute_result",
          "data": {
            "text/plain": [
              "True"
            ]
          },
          "metadata": {},
          "execution_count": 210
        }
      ]
    },
    {
      "cell_type": "code",
      "source": [
        "5>7"
      ],
      "metadata": {
        "colab": {
          "base_uri": "https://localhost:8080/"
        },
        "id": "rvQQ8jyEn2dx",
        "outputId": "8177b928-159d-46cd-bfdc-5d7fe4024784"
      },
      "execution_count": null,
      "outputs": [
        {
          "output_type": "execute_result",
          "data": {
            "text/plain": [
              "False"
            ]
          },
          "metadata": {},
          "execution_count": 211
        }
      ]
    },
    {
      "cell_type": "code",
      "source": [
        "5<7"
      ],
      "metadata": {
        "colab": {
          "base_uri": "https://localhost:8080/"
        },
        "id": "u4JDRD7Mn5KG",
        "outputId": "572cca6d-641f-4ff0-c20e-9073d06d3a22"
      },
      "execution_count": null,
      "outputs": [
        {
          "output_type": "execute_result",
          "data": {
            "text/plain": [
              "True"
            ]
          },
          "metadata": {},
          "execution_count": 212
        }
      ]
    },
    {
      "cell_type": "code",
      "source": [
        "a=5\n",
        "b=2\n",
        "c=7\n",
        "a > b and a > c"
      ],
      "metadata": {
        "colab": {
          "base_uri": "https://localhost:8080/"
        },
        "id": "ofLuix2bn6nJ",
        "outputId": "fb7d8b7f-ae86-4168-d439-09c553a61c8f"
      },
      "execution_count": null,
      "outputs": [
        {
          "output_type": "execute_result",
          "data": {
            "text/plain": [
              "False"
            ]
          },
          "metadata": {},
          "execution_count": 217
        }
      ]
    },
    {
      "cell_type": "code",
      "source": [
        "a > b and a < c"
      ],
      "metadata": {
        "colab": {
          "base_uri": "https://localhost:8080/"
        },
        "id": "de8-kZKEoYbT",
        "outputId": "f9807040-9880-4bbb-95fb-3e11c8a6d789"
      },
      "execution_count": null,
      "outputs": [
        {
          "output_type": "execute_result",
          "data": {
            "text/plain": [
              "True"
            ]
          },
          "metadata": {},
          "execution_count": 219
        }
      ]
    },
    {
      "cell_type": "code",
      "source": [
        "#2*8=16; still need +4 to equal 20, so 4 is the modulus"
      ],
      "metadata": {
        "id": "wy77YhxLokrs"
      },
      "execution_count": null,
      "outputs": []
    },
    {
      "cell_type": "code",
      "source": [
        "#syntax=rows"
      ],
      "metadata": {
        "id": "ZiCvhvgiowf6"
      },
      "execution_count": null,
      "outputs": []
    },
    {
      "cell_type": "code",
      "source": [
        "pi=3.14\n",
        "r=14\n",
        "area=2*pi*r\n",
        "print(area)"
      ],
      "metadata": {
        "colab": {
          "base_uri": "https://localhost:8080/"
        },
        "id": "eS_EXHkFo9Bf",
        "outputId": "199e88e9-56f6-4e35-eb1f-0243910bc6df"
      },
      "execution_count": null,
      "outputs": [
        {
          "output_type": "stream",
          "name": "stdout",
          "text": [
            "87.92\n"
          ]
        }
      ]
    },
    {
      "cell_type": "code",
      "source": [
        "round (area)"
      ],
      "metadata": {
        "colab": {
          "base_uri": "https://localhost:8080/"
        },
        "id": "GQmxkDsgqy5f",
        "outputId": "a5d85f37-0eb7-4a2a-887a-0cdc9ebdb051"
      },
      "execution_count": null,
      "outputs": [
        {
          "output_type": "execute_result",
          "data": {
            "text/plain": [
              "88"
            ]
          },
          "metadata": {},
          "execution_count": 228
        }
      ]
    },
    {
      "cell_type": "code",
      "source": [
        "len=14\n",
        "base=7\n",
        "height=17\n",
        "volume=len*base*height\n",
        "print(volume)"
      ],
      "metadata": {
        "colab": {
          "base_uri": "https://localhost:8080/"
        },
        "id": "e1xng4cap5aY",
        "outputId": "3499f1e7-6df1-4720-d2ec-5f1fa5bd9da3"
      },
      "execution_count": null,
      "outputs": [
        {
          "output_type": "stream",
          "name": "stdout",
          "text": [
            "1666\n"
          ]
        }
      ]
    },
    {
      "cell_type": "code",
      "source": [
        "#https://colab.research.google.com/notebooks/basic_features_overview.ipynb"
      ],
      "metadata": {
        "id": "bl7XZeS7qHt8"
      },
      "execution_count": null,
      "outputs": []
    },
    {
      "cell_type": "code",
      "source": [
        "#https://docs.python.org/3/\n",
        "#https://docs.python.org/3/library/index.html"
      ],
      "metadata": {
        "id": "5Ba3vVB9rKox"
      },
      "execution_count": null,
      "outputs": []
    },
    {
      "cell_type": "markdown",
      "source": [
        "## Fundamentals of Python"
      ],
      "metadata": {
        "id": "MH7vpYVet5y6"
      }
    },
    {
      "cell_type": "code",
      "source": [
        "x=10\n",
        "if x%2==0:\n",
        "  print(\"this is an even number!!\")"
      ],
      "metadata": {
        "colab": {
          "base_uri": "https://localhost:8080/"
        },
        "id": "qprb94L8t8tU",
        "outputId": "55194d0a-e496-4995-8694-eb4815aac89a"
      },
      "execution_count": null,
      "outputs": [
        {
          "output_type": "stream",
          "name": "stdout",
          "text": [
            "this is an even number!!\n"
          ]
        }
      ]
    },
    {
      "cell_type": "code",
      "source": [
        "x=7\n",
        "if x%2==0:\n",
        "  print(\"this is an even number!!\")\n",
        "else:\n",
        "    print(\"this is an odd number!!\")"
      ],
      "metadata": {
        "colab": {
          "base_uri": "https://localhost:8080/"
        },
        "id": "ik4gr4UQu1an",
        "outputId": "3f65194b-6a38-4f5d-a1e5-2e82f362b07c"
      },
      "execution_count": null,
      "outputs": [
        {
          "output_type": "stream",
          "name": "stdout",
          "text": [
            "this is an odd number!!\n"
          ]
        }
      ]
    },
    {
      "cell_type": "code",
      "source": [
        "a=15\n",
        "b=12\n",
        "\n",
        "if a==b:\n",
        "  print(\"the two numbers are equal\")\n",
        "elif a > b:\n",
        "  print(\"first number is greater\")\n",
        "else:\n",
        "  print(\"second number is greater\")"
      ],
      "metadata": {
        "colab": {
          "base_uri": "https://localhost:8080/"
        },
        "id": "84OSZ0U-vGHF",
        "outputId": "054fb455-fb65-4a03-e4f2-b9a1262fa697"
      },
      "execution_count": null,
      "outputs": [
        {
          "output_type": "stream",
          "name": "stdout",
          "text": [
            "first number is greater\n"
          ]
        }
      ]
    },
    {
      "cell_type": "code",
      "source": [
        "a=7\n",
        "b=8\n",
        "\n",
        "if a==b:\n",
        "  print(\"the numbers are equal\")\n",
        "elif a--b:\n",
        "  print(\"the number is negative\")\n",
        "else:\n",
        "  print(\"the number is postitive\")"
      ],
      "metadata": {
        "colab": {
          "base_uri": "https://localhost:8080/"
        },
        "id": "g0wQ9AlCwRqd",
        "outputId": "446f4e5b-294d-4d53-fe31-f29946787e8b"
      },
      "execution_count": null,
      "outputs": [
        {
          "output_type": "stream",
          "name": "stdout",
          "text": [
            "the number is negative\n"
          ]
        }
      ]
    },
    {
      "cell_type": "code",
      "source": [
        "a=-100\n",
        "\n",
        "if a==0:\n",
        "  print(\"Number is zero\")\n",
        "elif a<0:\n",
        "  print('Number is negative')\n",
        "else:\n",
        "  print(\"Number is positive\")"
      ],
      "metadata": {
        "colab": {
          "base_uri": "https://localhost:8080/"
        },
        "id": "B6-r1Ndhx5kx",
        "outputId": "44c07773-3a23-4aa5-d0b9-a2361ab46a8a"
      },
      "execution_count": null,
      "outputs": [
        {
          "output_type": "stream",
          "name": "stdout",
          "text": [
            "Number is negative\n"
          ]
        }
      ]
    },
    {
      "cell_type": "code",
      "source": [
        "a=70\n",
        "\n",
        "if a==0:\n",
        "  print(\"Number is zero\")\n",
        "elif a<0:\n",
        "  print('Number is negative')\n",
        "else:\n",
        "  print(\"Number is positive\")"
      ],
      "metadata": {
        "colab": {
          "base_uri": "https://localhost:8080/"
        },
        "id": "cWlycjEGyeHA",
        "outputId": "4fe4cdaf-b3dc-4547-95bf-fca30db95ec4"
      },
      "execution_count": null,
      "outputs": [
        {
          "output_type": "stream",
          "name": "stdout",
          "text": [
            "Number is positive\n"
          ]
        }
      ]
    },
    {
      "cell_type": "code",
      "source": [
        "a=(10-10)\n",
        "\n",
        "if a==0:\n",
        "  print(\"Number is zero\")\n",
        "elif a<0:\n",
        "  print('Number is negative')\n",
        "else:\n",
        "  print(\"Number is positive\")"
      ],
      "metadata": {
        "colab": {
          "base_uri": "https://localhost:8080/"
        },
        "id": "pDuMKpsbzdzT",
        "outputId": "9920a15f-a10b-4f1e-bfc3-c7cd2974b707"
      },
      "execution_count": null,
      "outputs": [
        {
          "output_type": "stream",
          "name": "stdout",
          "text": [
            "Number is zero\n"
          ]
        }
      ]
    },
    {
      "cell_type": "markdown",
      "source": [
        "# For Loops"
      ],
      "metadata": {
        "id": "NE6JLlKP0v-r"
      }
    },
    {
      "cell_type": "code",
      "source": [
        "for i in range(0,6):\n",
        "  print(\"The iteration number is {}\".format(i))"
      ],
      "metadata": {
        "colab": {
          "base_uri": "https://localhost:8080/"
        },
        "id": "ovcwlSRJ0x_A",
        "outputId": "4caf97b5-b636-4abc-f022-133a76bcea98"
      },
      "execution_count": null,
      "outputs": [
        {
          "output_type": "stream",
          "name": "stdout",
          "text": [
            "The iteration number is 0\n",
            "The iteration number is 1\n",
            "The iteration number is 2\n",
            "The iteration number is 3\n",
            "The iteration number is 4\n",
            "The iteration number is 5\n"
          ]
        }
      ]
    },
    {
      "cell_type": "code",
      "source": [
        "for i in range(1,10):\n",
        "  print(\"12x{}=\".format(i),i*12)\n"
      ],
      "metadata": {
        "colab": {
          "base_uri": "https://localhost:8080/"
        },
        "id": "cg1R26sS2y_V",
        "outputId": "c48de30a-d2e6-4e0d-abc9-2d31f0176773"
      },
      "execution_count": null,
      "outputs": [
        {
          "output_type": "stream",
          "name": "stdout",
          "text": [
            "12x1= 12\n",
            "12x2= 24\n",
            "12x3= 36\n",
            "12x4= 48\n",
            "12x5= 60\n",
            "12x6= 72\n",
            "12x7= 84\n",
            "12x8= 96\n",
            "12x9= 108\n"
          ]
        }
      ]
    },
    {
      "cell_type": "code",
      "source": [
        "target_val = 5\n",
        "iter_var = 0\n",
        "while iter_var < target_val:\n",
        "  print(\"Iteration number is {} which is less than target value {}\".format(iter_var, target_val))\n",
        "  iter_var = iter_var+1\n",
        "abc=50\n",
        "print(abc)"
      ],
      "metadata": {
        "colab": {
          "base_uri": "https://localhost:8080/"
        },
        "id": "cot6oIXL07Yy",
        "outputId": "dbd985a4-b42f-4c6a-9090-8821bace00ca"
      },
      "execution_count": null,
      "outputs": [
        {
          "output_type": "stream",
          "name": "stdout",
          "text": [
            "Iteration number is 0 which is less than target value 5\n",
            "Iteration number is 1 which is less than target value 5\n",
            "Iteration number is 2 which is less than target value 5\n",
            "Iteration number is 3 which is less than target value 5\n",
            "Iteration number is 4 which is less than target value 5\n",
            "50\n"
          ]
        }
      ]
    },
    {
      "cell_type": "code",
      "source": [
        "#while runs till condition is true and for iterates each value basically repeat"
      ],
      "metadata": {
        "id": "b40FDBX73pWv"
      },
      "execution_count": null,
      "outputs": []
    },
    {
      "cell_type": "code",
      "source": [
        "#will read next statement until the while is complete"
      ],
      "metadata": {
        "id": "7QjxhHll4mN_"
      },
      "execution_count": null,
      "outputs": []
    },
    {
      "cell_type": "markdown",
      "source": [
        "# Indentation"
      ],
      "metadata": {
        "id": "Y2NHUnLb5aaZ"
      }
    },
    {
      "cell_type": "code",
      "source": [
        "number = 10\n",
        "\n",
        "if number==10:\n",
        "  print(\"This is correct indentation\")\n",
        "  a=10\n",
        "  print(a)"
      ],
      "metadata": {
        "colab": {
          "base_uri": "https://localhost:8080/"
        },
        "id": "zM7omjHt5cyN",
        "outputId": "6c9b63c4-f81f-4a71-b720-07692f0d7422"
      },
      "execution_count": null,
      "outputs": [
        {
          "output_type": "stream",
          "name": "stdout",
          "text": [
            "This is correct indentation\n",
            "10\n"
          ]
        }
      ]
    },
    {
      "cell_type": "code",
      "source": [
        "# = for assignment\n",
        "# == for comparison of var"
      ],
      "metadata": {
        "id": "OEnQjbUf6Qg3"
      },
      "execution_count": null,
      "outputs": []
    },
    {
      "cell_type": "markdown",
      "source": [
        "### Nested-for loops"
      ],
      "metadata": {
        "id": "pMru66s66q0t"
      }
    },
    {
      "cell_type": "code",
      "source": [
        "for i in [1,2,3,4,5]:\n",
        "  for j in [1,2,3,4,5,6,7,8,9,10]:\n",
        "    print(i*j, end=\" \")\n",
        "    print()"
      ],
      "metadata": {
        "colab": {
          "base_uri": "https://localhost:8080/"
        },
        "id": "e078GldI6tZj",
        "outputId": "47f9e4b6-4aa2-40f7-bfd6-bf256206d648"
      },
      "execution_count": null,
      "outputs": [
        {
          "output_type": "stream",
          "name": "stdout",
          "text": [
            "1 \n",
            "2 \n",
            "3 \n",
            "4 \n",
            "5 \n",
            "6 \n",
            "7 \n",
            "8 \n",
            "9 \n",
            "10 \n",
            "2 \n",
            "4 \n",
            "6 \n",
            "8 \n",
            "10 \n",
            "12 \n",
            "14 \n",
            "16 \n",
            "18 \n",
            "20 \n",
            "3 \n",
            "6 \n",
            "9 \n",
            "12 \n",
            "15 \n",
            "18 \n",
            "21 \n",
            "24 \n",
            "27 \n",
            "30 \n",
            "4 \n",
            "8 \n",
            "12 \n",
            "16 \n",
            "20 \n",
            "24 \n",
            "28 \n",
            "32 \n",
            "36 \n",
            "40 \n",
            "5 \n",
            "10 \n",
            "15 \n",
            "20 \n",
            "25 \n",
            "30 \n",
            "35 \n",
            "40 \n",
            "45 \n",
            "50 \n"
          ]
        }
      ]
    },
    {
      "cell_type": "code",
      "source": [
        "for i in range (1,5):\n",
        "  for j in range (1,11):\n",
        "    print (i*j, end=\" \")\n",
        "  print()"
      ],
      "metadata": {
        "colab": {
          "base_uri": "https://localhost:8080/"
        },
        "id": "d3m87Y0967PO",
        "outputId": "b4cd4b5a-7964-4784-97ef-b54b8b5fe69a"
      },
      "execution_count": null,
      "outputs": [
        {
          "output_type": "stream",
          "name": "stdout",
          "text": [
            "1 2 3 4 5 6 7 8 9 10 \n",
            "2 4 6 8 10 12 14 16 18 20 \n",
            "3 6 9 12 15 18 21 24 27 30 \n",
            "4 8 12 16 20 24 28 32 36 40 \n"
          ]
        }
      ]
    },
    {
      "cell_type": "code",
      "source": [
        "#if condition met break while loop"
      ],
      "metadata": {
        "id": "EIv5AGBU8CDX"
      },
      "execution_count": null,
      "outputs": []
    },
    {
      "cell_type": "code",
      "source": [
        "target_val = 5\n",
        "iter_var = 0\n",
        "while iter_var < target_val:\n",
        "    print(\"Iteration number is {} which is less than target value {}\".format(iter_var, target_val))\n",
        "    if iter_var ==2:\n",
        "        print(\"Condition Met! Breaking out of the loop\")\n",
        "        break\n",
        "    iter_var = iter_var+1"
      ],
      "metadata": {
        "colab": {
          "base_uri": "https://localhost:8080/"
        },
        "id": "T7PhtE_Q9T3Q",
        "outputId": "3f8d9042-cc33-47e9-fdb7-eec3eed661f8"
      },
      "execution_count": null,
      "outputs": [
        {
          "output_type": "stream",
          "name": "stdout",
          "text": [
            "Iteration number is 0 which is less than target value 5\n",
            "Iteration number is 1 which is less than target value 5\n",
            "Iteration number is 2 which is less than target value 5\n",
            "Condition Met! Breaking out of the loop\n"
          ]
        }
      ]
    },
    {
      "cell_type": "code",
      "source": [
        "target_val = 5\n",
        "iter_var = 0\n",
        "while iter_var < target_val:\n",
        "    iter_var = iter_var+1\n",
        "    if iter_var ==2:\n",
        "        continue\n",
        "    print(\"Iteration number is {} which is less than target value {}\".format(iter_var, target_val))"
      ],
      "metadata": {
        "colab": {
          "base_uri": "https://localhost:8080/"
        },
        "id": "hsLk0s2M-qFv",
        "outputId": "cd48d394-7e52-4d57-c446-0f32a72d1a78"
      },
      "execution_count": null,
      "outputs": [
        {
          "output_type": "stream",
          "name": "stdout",
          "text": [
            "Iteration number is 1 which is less than target value 5\n",
            "Iteration number is 3 which is less than target value 5\n",
            "Iteration number is 4 which is less than target value 5\n",
            "Iteration number is 5 which is less than target value 5\n"
          ]
        }
      ]
    },
    {
      "cell_type": "markdown",
      "source": [
        "## Lists"
      ],
      "metadata": {
        "id": "eB4SsQW4AcEH"
      }
    },
    {
      "cell_type": "code",
      "source": [
        "i= [\"Mike\", \"Sean\", \"Adam\", 12, 12.6, True]\n",
        "i"
      ],
      "metadata": {
        "colab": {
          "base_uri": "https://localhost:8080/"
        },
        "id": "Eu5nqIcSAdK8",
        "outputId": "b8cfbcf5-d390-4afa-9106-b09e917af18f"
      },
      "execution_count": null,
      "outputs": [
        {
          "output_type": "execute_result",
          "data": {
            "text/plain": [
              "['Mike', 'Sean', 'Adam', 12, 12.6, True]"
            ]
          },
          "metadata": {},
          "execution_count": 59
        }
      ]
    },
    {
      "cell_type": "code",
      "source": [
        "i[0]"
      ],
      "metadata": {
        "colab": {
          "base_uri": "https://localhost:8080/",
          "height": 36
        },
        "id": "D0dattbkAozE",
        "outputId": "23adba6a-286a-485b-fca6-2991264771f2"
      },
      "execution_count": null,
      "outputs": [
        {
          "output_type": "execute_result",
          "data": {
            "text/plain": [
              "'Mike'"
            ],
            "application/vnd.google.colaboratory.intrinsic+json": {
              "type": "string"
            }
          },
          "metadata": {},
          "execution_count": 60
        }
      ]
    },
    {
      "cell_type": "code",
      "source": [
        "i[-1]"
      ],
      "metadata": {
        "colab": {
          "base_uri": "https://localhost:8080/"
        },
        "id": "gIEhRA-rA0xn",
        "outputId": "eacef242-2ac0-4ac5-d72a-8293b0e2851c"
      },
      "execution_count": null,
      "outputs": [
        {
          "output_type": "execute_result",
          "data": {
            "text/plain": [
              "True"
            ]
          },
          "metadata": {},
          "execution_count": 61
        }
      ]
    },
    {
      "cell_type": "code",
      "source": [
        "i[-3]"
      ],
      "metadata": {
        "colab": {
          "base_uri": "https://localhost:8080/"
        },
        "id": "gJ-rjlrIA3Lf",
        "outputId": "75b98553-058e-4109-90b5-ad7eba6bfd08"
      },
      "execution_count": null,
      "outputs": [
        {
          "output_type": "execute_result",
          "data": {
            "text/plain": [
              "12"
            ]
          },
          "metadata": {},
          "execution_count": 62
        }
      ]
    },
    {
      "cell_type": "code",
      "source": [
        "i2=[\"Mike\", 5000, True]\n",
        "i2"
      ],
      "metadata": {
        "colab": {
          "base_uri": "https://localhost:8080/"
        },
        "id": "Zj773vyxA5Bk",
        "outputId": "b914bd37-9309-4633-8e28-61d4be9e906c"
      },
      "execution_count": null,
      "outputs": [
        {
          "output_type": "execute_result",
          "data": {
            "text/plain": [
              "['Mike', 5000, True]"
            ]
          },
          "metadata": {},
          "execution_count": 74
        }
      ]
    },
    {
      "cell_type": "code",
      "source": [
        "i.2[1]=\"Ali\"\n",
        "print(i.2)"
      ],
      "metadata": {
        "colab": {
          "base_uri": "https://localhost:8080/"
        },
        "id": "kus2YUs1A_eK",
        "outputId": "98eec318-c723-40c2-e833-fbdef5898b6b"
      },
      "execution_count": null,
      "outputs": [
        {
          "output_type": "stream",
          "name": "stdout",
          "text": [
            "['Mike', 'Sarah', 'Nick']\n"
          ]
        }
      ]
    },
    {
      "cell_type": "code",
      "source": [
        "i[1:3]= [\"Sarah\", \"Nick\"]\n",
        "i"
      ],
      "metadata": {
        "colab": {
          "base_uri": "https://localhost:8080/"
        },
        "id": "ng63gym5BGQv",
        "outputId": "80865aa3-d5f0-4d49-bc1f-29d528385799"
      },
      "execution_count": null,
      "outputs": [
        {
          "output_type": "execute_result",
          "data": {
            "text/plain": [
              "['Mike', 'Sarah', 'Nick']"
            ]
          },
          "metadata": {},
          "execution_count": 69
        }
      ]
    },
    {
      "cell_type": "code",
      "source": [
        "len(i)"
      ],
      "metadata": {
        "colab": {
          "base_uri": "https://localhost:8080/"
        },
        "id": "xXFmyE5NBN5E",
        "outputId": "6fa8142a-a276-4b5d-aafc-f529e30221c1"
      },
      "execution_count": null,
      "outputs": [
        {
          "output_type": "execute_result",
          "data": {
            "text/plain": [
              "3"
            ]
          },
          "metadata": {},
          "execution_count": 71
        }
      ]
    },
    {
      "cell_type": "code",
      "source": [
        "type(i)"
      ],
      "metadata": {
        "colab": {
          "base_uri": "https://localhost:8080/"
        },
        "id": "DD5i6P_tBd0H",
        "outputId": "757f34f6-34aa-4514-e70f-0ffcd6d35d9f"
      },
      "execution_count": null,
      "outputs": [
        {
          "output_type": "execute_result",
          "data": {
            "text/plain": [
              "list"
            ]
          },
          "metadata": {},
          "execution_count": 72
        }
      ]
    },
    {
      "cell_type": "code",
      "source": [
        "i=[\"Mike\", \"Sean\", \"Adam\", \"Ali\", \"Rachel\"]\n",
        "\n",
        "if \"Ali\" in i:\n",
        "  print(\"Found the name\")"
      ],
      "metadata": {
        "colab": {
          "base_uri": "https://localhost:8080/"
        },
        "id": "qh_55piyBgra",
        "outputId": "57f7ba13-6a35-4528-b264-84cd977113f1"
      },
      "execution_count": null,
      "outputs": [
        {
          "output_type": "stream",
          "name": "stdout",
          "text": [
            "Found the name\n"
          ]
        }
      ]
    },
    {
      "cell_type": "code",
      "source": [],
      "metadata": {
        "id": "biW0I1R6B7Sa"
      },
      "execution_count": null,
      "outputs": []
    },
    {
      "cell_type": "code",
      "source": [
        "i=[\"Mike\", \"Sean\", \"Adam\", \"Ali\", \"Rachel\"]\n",
        "\n",
        "if \"2\" in i:\n",
        "  print(\"Found the name\")\n",
        "else:\n",
        "  print(\"Name not found\")"
      ],
      "metadata": {
        "colab": {
          "base_uri": "https://localhost:8080/"
        },
        "outputId": "39e57042-c3bb-41c6-f793-24f68612b6d7",
        "id": "9NystqcECEOX"
      },
      "execution_count": null,
      "outputs": [
        {
          "output_type": "stream",
          "name": "stdout",
          "text": [
            "Name not found\n"
          ]
        }
      ]
    },
    {
      "cell_type": "code",
      "source": [],
      "metadata": {
        "id": "nXMpIp2BCIpm"
      },
      "execution_count": null,
      "outputs": []
    },
    {
      "cell_type": "code",
      "source": [
        "i=[\"Mike\", \"Sean\", \"Adam\", \"Ali\", \"Rachel\"]\n",
        "\n",
        "if \"2\" not in i:\n",
        "  print(\"False\")"
      ],
      "metadata": {
        "colab": {
          "base_uri": "https://localhost:8080/"
        },
        "outputId": "d58ea391-cc76-4e63-cfdd-77e92248639c",
        "id": "4h80_Hu5CS2H"
      },
      "execution_count": null,
      "outputs": [
        {
          "output_type": "stream",
          "name": "stdout",
          "text": [
            "False\n"
          ]
        }
      ]
    },
    {
      "cell_type": "code",
      "source": [
        "i.insert(1, \"Bob\")\n",
        "i"
      ],
      "metadata": {
        "colab": {
          "base_uri": "https://localhost:8080/"
        },
        "id": "S42MSCTBCXIA",
        "outputId": "5012e6dd-c177-47aa-fb44-dbfacb55f047"
      },
      "execution_count": null,
      "outputs": [
        {
          "output_type": "execute_result",
          "data": {
            "text/plain": [
              "['Mike', 'Bob', 'Ali', 'Ali', 'Sean', 'Adam', 'Ali', 'Rachel']"
            ]
          },
          "metadata": {},
          "execution_count": 82
        }
      ]
    },
    {
      "cell_type": "code",
      "source": [
        "i=[\"Mike\", \"Sean\", \"Adam\", \"Ali\", \"Rachel\"]\n",
        "i.append(\"Basim\")\n",
        "i"
      ],
      "metadata": {
        "colab": {
          "base_uri": "https://localhost:8080/"
        },
        "outputId": "f221aabf-db5d-4076-95b1-9a21f4d93900",
        "id": "wpXmkaiIDQ2i"
      },
      "execution_count": null,
      "outputs": [
        {
          "output_type": "execute_result",
          "data": {
            "text/plain": [
              "['Mike', 'Sean', 'Adam', 'Ali', 'Rachel', 'Basim']"
            ]
          },
          "metadata": {},
          "execution_count": 86
        }
      ]
    },
    {
      "cell_type": "code",
      "source": [
        "#append\n",
        "#clear\n",
        "#copy\n",
        "#count\n",
        "#extend\n",
        "#index\n",
        "#insert\n",
        "#pop\n",
        "#remove\n",
        "#reverse\n",
        "#sort"
      ],
      "metadata": {
        "id": "M4x8VE9YC3bd"
      },
      "execution_count": null,
      "outputs": []
    },
    {
      "cell_type": "code",
      "source": [
        "i2=[\"Lion\", \"Tiger\"]\n",
        "i.extend(i2)\n",
        "i"
      ],
      "metadata": {
        "colab": {
          "base_uri": "https://localhost:8080/"
        },
        "id": "zMB88IPBDd1W",
        "outputId": "44543213-770e-4120-c082-709e7b0535d2"
      },
      "execution_count": null,
      "outputs": [
        {
          "output_type": "execute_result",
          "data": {
            "text/plain": [
              "['Mike', 'Sean', 'Adam', 'Ali', 'Rachel', 'Basim', 'Lion', 'Tiger']"
            ]
          },
          "metadata": {},
          "execution_count": 89
        }
      ]
    },
    {
      "cell_type": "code",
      "source": [
        "i.remove(\"Ali\")\n",
        "i"
      ],
      "metadata": {
        "colab": {
          "base_uri": "https://localhost:8080/"
        },
        "id": "vNGyx4XKDv2h",
        "outputId": "5ae756f8-87c1-4f38-f548-9acf3a981bae"
      },
      "execution_count": null,
      "outputs": [
        {
          "output_type": "execute_result",
          "data": {
            "text/plain": [
              "['Mike', 'Sean', 'Adam', 'Rachel', 'Basim', 'Lion', 'Tiger']"
            ]
          },
          "metadata": {},
          "execution_count": 90
        }
      ]
    },
    {
      "cell_type": "code",
      "source": [
        "i= ['Mike', 'Sean', 'Adam', 'Ali', 'Rachel', 'Basim', 'Lion', 'Tiger']\n",
        "i.sort()\n",
        "i"
      ],
      "metadata": {
        "colab": {
          "base_uri": "https://localhost:8080/"
        },
        "id": "RQPn0EU3ElML",
        "outputId": "93a297fd-dea2-4048-fc99-eb54ba9317d9"
      },
      "execution_count": null,
      "outputs": [
        {
          "output_type": "execute_result",
          "data": {
            "text/plain": [
              "['Adam', 'Ali', 'Basim', 'Lion', 'Mike', 'Rachel', 'Sean', 'Tiger']"
            ]
          },
          "metadata": {},
          "execution_count": 98
        }
      ]
    },
    {
      "cell_type": "code",
      "source": [
        "numlist=[100,23,90,2000]\n",
        "numlist.sort(reverse= True)\n",
        "numlist"
      ],
      "metadata": {
        "colab": {
          "base_uri": "https://localhost:8080/"
        },
        "id": "kO5RqcguEtbo",
        "outputId": "4caffa87-47e8-40fc-c50d-b4c419961f85"
      },
      "execution_count": null,
      "outputs": [
        {
          "output_type": "execute_result",
          "data": {
            "text/plain": [
              "[2000, 100, 90, 23]"
            ]
          },
          "metadata": {},
          "execution_count": 100
        }
      ]
    },
    {
      "cell_type": "code",
      "source": [
        "numlist=[100,23,90,2000]\n",
        "numlist.sort()\n",
        "numlist"
      ],
      "metadata": {
        "colab": {
          "base_uri": "https://localhost:8080/"
        },
        "id": "JHimFcN-E5T7",
        "outputId": "05b63459-6574-4268-96b9-a9ad8bf849c0"
      },
      "execution_count": null,
      "outputs": [
        {
          "output_type": "execute_result",
          "data": {
            "text/plain": [
              "[23, 90, 100, 2000]"
            ]
          },
          "metadata": {},
          "execution_count": 101
        }
      ]
    },
    {
      "cell_type": "code",
      "source": [
        "list[\"Lion\",\"Tiger\"]\n",
        "list2=[\"Basim\", \"Ali\"]\n",
        "list3 = list+ list2\n",
        "list3"
      ],
      "metadata": {
        "colab": {
          "base_uri": "https://localhost:8080/",
          "height": 226
        },
        "id": "CQEKvm7RFBDe",
        "outputId": "c60ffc13-2be3-46e5-afb3-76e8a0affb00"
      },
      "execution_count": null,
      "outputs": [
        {
          "output_type": "error",
          "ename": "TypeError",
          "evalue": "ignored",
          "traceback": [
            "\u001b[0;31m---------------------------------------------------------------------------\u001b[0m",
            "\u001b[0;31mTypeError\u001b[0m                                 Traceback (most recent call last)",
            "\u001b[0;32m<ipython-input-105-b1ad1953f0ea>\u001b[0m in \u001b[0;36m<cell line: 3>\u001b[0;34m()\u001b[0m\n\u001b[1;32m      1\u001b[0m \u001b[0mlist\u001b[0m\u001b[0;34m[\u001b[0m\u001b[0;34m\"Lion\"\u001b[0m\u001b[0;34m,\u001b[0m\u001b[0;34m\"Tiger\"\u001b[0m\u001b[0;34m]\u001b[0m\u001b[0;34m\u001b[0m\u001b[0;34m\u001b[0m\u001b[0m\n\u001b[1;32m      2\u001b[0m \u001b[0mlist2\u001b[0m\u001b[0;34m=\u001b[0m\u001b[0;34m[\u001b[0m\u001b[0;34m\"Basim\"\u001b[0m\u001b[0;34m,\u001b[0m \u001b[0;34m\"Ali\"\u001b[0m\u001b[0;34m]\u001b[0m\u001b[0;34m\u001b[0m\u001b[0;34m\u001b[0m\u001b[0m\n\u001b[0;32m----> 3\u001b[0;31m \u001b[0mlist3\u001b[0m \u001b[0;34m=\u001b[0m \u001b[0mlist\u001b[0m\u001b[0;34m+\u001b[0m \u001b[0mlist2\u001b[0m\u001b[0;34m\u001b[0m\u001b[0;34m\u001b[0m\u001b[0m\n\u001b[0m\u001b[1;32m      4\u001b[0m \u001b[0mlist3\u001b[0m\u001b[0;34m\u001b[0m\u001b[0;34m\u001b[0m\u001b[0m\n",
            "\u001b[0;31mTypeError\u001b[0m: unsupported operand type(s) for +: 'type' and 'list'"
          ]
        }
      ]
    },
    {
      "cell_type": "code",
      "source": [
        "#gethelp from python\n",
        "help(list.sort)"
      ],
      "metadata": {
        "colab": {
          "base_uri": "https://localhost:8080/"
        },
        "id": "1EdVSM9KFXx0",
        "outputId": "312c39ef-461c-49ee-e40e-c5701d541699"
      },
      "execution_count": null,
      "outputs": [
        {
          "output_type": "stream",
          "name": "stdout",
          "text": [
            "Help on method_descriptor:\n",
            "\n",
            "sort(self, /, *, key=None, reverse=False)\n",
            "    Sort the list in ascending order and return None.\n",
            "    \n",
            "    The sort is in-place (i.e. the list itself is modified) and stable (i.e. the\n",
            "    order of two equal elements is maintained).\n",
            "    \n",
            "    If a key function is given, apply it once to each list item and sort them,\n",
            "    ascending or descending, according to their function values.\n",
            "    \n",
            "    The reverse flag can be set to sort in descending order.\n",
            "\n"
          ]
        }
      ]
    },
    {
      "cell_type": "code",
      "source": [
        "item= input(\"Enter name:\")"
      ],
      "metadata": {
        "colab": {
          "base_uri": "https://localhost:8080/"
        },
        "id": "35zwuYK1GHF_",
        "outputId": "7617a8d0-9980-439f-d694-3ece5dfd7387"
      },
      "execution_count": null,
      "outputs": [
        {
          "name": "stdout",
          "output_type": "stream",
          "text": [
            "Enter name:Bravo\n"
          ]
        }
      ]
    },
    {
      "cell_type": "code",
      "source": [
        "mylist = [\"Mike\", \"Dean\", \"Adam\", \"Ali\"]\n",
        "\n",
        "if item in mylist:\n",
        "  print(\"Name already exist\")\n",
        "else:\n",
        "  mylist.append(item)\n",
        "  print(\"input added in list, updated list is:\")\n",
        "  print(mylist)"
      ],
      "metadata": {
        "colab": {
          "base_uri": "https://localhost:8080/"
        },
        "id": "J2Q2HO5_GR4V",
        "outputId": "ebbdbeac-8c1d-413c-bbe2-eb5204f792ab"
      },
      "execution_count": null,
      "outputs": [
        {
          "output_type": "stream",
          "name": "stdout",
          "text": [
            "input added in list, updated list is:\n",
            "['Mike', 'Dean', 'Adam', 'Ali', 'Bravo']\n"
          ]
        }
      ]
    },
    {
      "cell_type": "markdown",
      "source": [
        "# List-Looping"
      ],
      "metadata": {
        "id": "6H5gHiOdG-Vi"
      }
    },
    {
      "cell_type": "code",
      "source": [
        "mylist = [\"Mike\", \"Sean\", \"Ali\", \"Travis\", \"Scott\"]\n",
        "for element in mylist:\n",
        "  print(element)"
      ],
      "metadata": {
        "colab": {
          "base_uri": "https://localhost:8080/"
        },
        "id": "-nkbPgNZHBAl",
        "outputId": "38d3e310-c96f-43f1-b37e-19432bad571b"
      },
      "execution_count": null,
      "outputs": [
        {
          "output_type": "stream",
          "name": "stdout",
          "text": [
            "Mike\n",
            "Sean\n",
            "Ali\n",
            "Travis\n",
            "Scott\n"
          ]
        }
      ]
    },
    {
      "cell_type": "code",
      "source": [
        "mylist = [\"Mike\", \"Sean\", \"Ali\", \"Travis\", \"Scott\"]\n",
        "for element in range(len(mylist)):\n",
        "  print(element, mylist[element])"
      ],
      "metadata": {
        "colab": {
          "base_uri": "https://localhost:8080/"
        },
        "id": "5MD4Pi1_IEni",
        "outputId": "792031a5-8d0e-4a1a-e405-6a8b73d3fdc3"
      },
      "execution_count": null,
      "outputs": [
        {
          "output_type": "stream",
          "name": "stdout",
          "text": [
            "0 Mike\n",
            "1 Sean\n",
            "2 Ali\n",
            "3 Travis\n",
            "4 Scott\n"
          ]
        }
      ]
    },
    {
      "cell_type": "code",
      "source": [
        "#accessing items thru indexes which is why there is numbers before names"
      ],
      "metadata": {
        "id": "YyUXSOGVJIkp"
      },
      "execution_count": null,
      "outputs": []
    },
    {
      "cell_type": "markdown",
      "source": [
        "## List comprehension"
      ],
      "metadata": {
        "id": "3dApKvLAJ2pi"
      }
    },
    {
      "cell_type": "code",
      "source": [
        "mylist = [1000, 20, 20120, 50, 95, 1021]\n",
        "newnumlst_conventional = []\n",
        "newnumlist_comprehension = []\n",
        "\n",
        "newnumlst_comprehension = [i for i in numlist if i<100]\n",
        "print(newnumlst_conventional)\n",
        "print(newnumlst_comprehension)"
      ],
      "metadata": {
        "colab": {
          "base_uri": "https://localhost:8080/"
        },
        "id": "avKI6rtEJ4zj",
        "outputId": "072fba12-d26a-4c2e-9d63-b1c47f797c2a"
      },
      "execution_count": null,
      "outputs": [
        {
          "output_type": "stream",
          "name": "stdout",
          "text": [
            "[]\n",
            "[23, 90]\n"
          ]
        }
      ]
    },
    {
      "cell_type": "code",
      "source": [
        "#Intention is to make a new list where each element is <100\n",
        "#Define empty lists for each method\n",
        "#Conventional Method\n",
        "for i in mylist:\n",
        "  if i<100:\n",
        "    newlist_conventional.append(i)\n",
        "#List Comprehension"
      ],
      "metadata": {
        "id": "akFiJBBQKAMu"
      },
      "execution_count": null,
      "outputs": []
    },
    {
      "cell_type": "code",
      "source": [
        "numlist = [1000, 20, 20120, 50, 95, 1021]\n",
        "\n",
        "newnumlst_conventional = []\n",
        "newnumlst_comprehension = []\n",
        "\n",
        "\n",
        "\n",
        "# conventional method\n",
        "for i in numlist:\n",
        "    if i < 100:\n",
        "        newnumlst_conventional.append(i)\n",
        "\n",
        "# List comprehension\n",
        "newnumlst_comprehension = [i for i in numlist if i<100]\n",
        "\n",
        "print(newnumlst_conventional)\n",
        "print(newnumlst_comprehension)"
      ],
      "metadata": {
        "colab": {
          "base_uri": "https://localhost:8080/"
        },
        "id": "0JiVLbNZLrg8",
        "outputId": "780e6673-46c7-422f-e7a2-1d02d8ba0c0d"
      },
      "execution_count": null,
      "outputs": [
        {
          "output_type": "stream",
          "name": "stdout",
          "text": [
            "[20, 50, 95]\n",
            "[20, 50, 95]\n"
          ]
        }
      ]
    },
    {
      "cell_type": "code",
      "source": [
        "mylist= [\"Mike\", \"Dean\", \"Adam\", \"Ali\"]\n",
        "\n",
        "newlst = []\n",
        "\n",
        "newlst = [i for i in mylist if \"A\" in i]\n",
        "newlst"
      ],
      "metadata": {
        "colab": {
          "base_uri": "https://localhost:8080/"
        },
        "id": "sdfZLHaPLr7T",
        "outputId": "59135943-d2ff-4414-fdaf-74758d9de2c5"
      },
      "execution_count": null,
      "outputs": [
        {
          "output_type": "execute_result",
          "data": {
            "text/plain": [
              "['Adam', 'Ali']"
            ]
          },
          "metadata": {},
          "execution_count": 124
        }
      ]
    },
    {
      "cell_type": "code",
      "source": [
        "#newlst = condition or no condition practice"
      ],
      "metadata": {
        "id": "3gqE19fyL1zs"
      },
      "execution_count": null,
      "outputs": []
    },
    {
      "cell_type": "code",
      "source": [
        "mylist= [\"Mike\", \"Dean\", \"Adam\", \"Ali\"]\n",
        "newlst = [i.upper() for i in mylist]\n",
        "newlst"
      ],
      "metadata": {
        "colab": {
          "base_uri": "https://localhost:8080/"
        },
        "id": "NR9ygPOvMQXr",
        "outputId": "bda415e3-fa60-454c-8e7b-1cf54299b877"
      },
      "execution_count": null,
      "outputs": [
        {
          "output_type": "execute_result",
          "data": {
            "text/plain": [
              "['MIKE', 'DEAN', 'ADAM', 'ALI']"
            ]
          },
          "metadata": {},
          "execution_count": 126
        }
      ]
    },
    {
      "cell_type": "code",
      "source": [
        "newlst= [i**2 for i in range(10)]\n",
        "newlst"
      ],
      "metadata": {
        "colab": {
          "base_uri": "https://localhost:8080/"
        },
        "id": "fnowV92cMbYj",
        "outputId": "a4d66741-36bd-44b6-8f44-67e68a7508bd"
      },
      "execution_count": null,
      "outputs": [
        {
          "output_type": "execute_result",
          "data": {
            "text/plain": [
              "[0, 1, 4, 9, 16, 25, 36, 49, 64, 81]"
            ]
          },
          "metadata": {},
          "execution_count": 128
        }
      ]
    },
    {
      "cell_type": "code",
      "source": [
        "newlst = [i for i in range(10) if i >= 5]\n",
        "print(newlst)"
      ],
      "metadata": {
        "colab": {
          "base_uri": "https://localhost:8080/"
        },
        "id": "HP6cLqRpMjrB",
        "outputId": "31111ad9-60be-4a9a-ac63-2ba3a773b0fd"
      },
      "execution_count": null,
      "outputs": [
        {
          "output_type": "stream",
          "name": "stdout",
          "text": [
            "[5, 6, 7, 8, 9]\n"
          ]
        }
      ]
    },
    {
      "cell_type": "code",
      "source": [
        "word= \"Python\"\n",
        "\n",
        "mystring = [ letter.upper() for letter in word]\n",
        "print(mystring)"
      ],
      "metadata": {
        "colab": {
          "base_uri": "https://localhost:8080/"
        },
        "id": "aQ6DviQfMwvz",
        "outputId": "d3cddc71-cff0-40ce-b992-b59dfaffd6d9"
      },
      "execution_count": null,
      "outputs": [
        {
          "output_type": "stream",
          "name": "stdout",
          "text": [
            "['P', 'Y', 'T', 'H', 'O', 'N']\n"
          ]
        }
      ]
    },
    {
      "cell_type": "code",
      "source": [
        "word= \"Manchester\"\n",
        "\n",
        "mystring= [letter.upper() for letter in word]\n",
        "print(mystring)"
      ],
      "metadata": {
        "colab": {
          "base_uri": "https://localhost:8080/"
        },
        "id": "7y5uYeJ0NQHB",
        "outputId": "ef8cc75c-5a90-4039-f9fe-99e8beccf346"
      },
      "execution_count": null,
      "outputs": [
        {
          "output_type": "stream",
          "name": "stdout",
          "text": [
            "['M', 'A', 'N', 'C', 'H', 'E', 'S', 'T', 'E', 'R']\n"
          ]
        }
      ]
    },
    {
      "cell_type": "code",
      "source": [
        "word=\"python\"\n",
        "list(word.upper())"
      ],
      "metadata": {
        "colab": {
          "base_uri": "https://localhost:8080/"
        },
        "id": "lE7tOZw-Nmkr",
        "outputId": "fab67a57-3b07-4d2f-9c5e-840453faa68b"
      },
      "execution_count": null,
      "outputs": [
        {
          "output_type": "execute_result",
          "data": {
            "text/plain": [
              "['P', 'Y', 'T', 'H', 'O', 'N']"
            ]
          },
          "metadata": {},
          "execution_count": 133
        }
      ]
    },
    {
      "cell_type": "markdown",
      "source": [
        "## Nested Lists"
      ],
      "metadata": {
        "id": "SHdpBvJqNE3u"
      }
    },
    {
      "cell_type": "code",
      "source": [
        "mylst= [1,2, [\"a\", 34], 3]\n",
        "mylst"
      ],
      "metadata": {
        "colab": {
          "base_uri": "https://localhost:8080/"
        },
        "id": "RYHiChZJQ8_f",
        "outputId": "e4358fb3-b82e-450d-b0e1-c3960cf25e94"
      },
      "execution_count": null,
      "outputs": [
        {
          "output_type": "execute_result",
          "data": {
            "text/plain": [
              "[1, 2, ['a', 34], 3]"
            ]
          },
          "metadata": {},
          "execution_count": 135
        }
      ]
    },
    {
      "cell_type": "code",
      "source": [
        "sublst = mylst[2]\n",
        "sublst"
      ],
      "metadata": {
        "colab": {
          "base_uri": "https://localhost:8080/"
        },
        "id": "JGdxDFICRceP",
        "outputId": "2c6b0e29-f5f2-4967-c325-c64222a01681"
      },
      "execution_count": null,
      "outputs": [
        {
          "output_type": "execute_result",
          "data": {
            "text/plain": [
              "['a', 34]"
            ]
          },
          "metadata": {},
          "execution_count": 136
        }
      ]
    },
    {
      "cell_type": "code",
      "source": [
        "mylst[2][1]"
      ],
      "metadata": {
        "colab": {
          "base_uri": "https://localhost:8080/"
        },
        "id": "sJxkuBnZRiWf",
        "outputId": "9e8f644f-2bde-4f9d-94ab-70ba0f7fc81e"
      },
      "execution_count": null,
      "outputs": [
        {
          "output_type": "execute_result",
          "data": {
            "text/plain": [
              "34"
            ]
          },
          "metadata": {},
          "execution_count": 137
        }
      ]
    },
    {
      "cell_type": "code",
      "source": [
        "matrix = [[0, 1, 2],\n",
        "[3, 4, 5],\n",
        "[6, 7, 8],\n",
        "[9, 10, 11]]\n",
        "\n",
        "rows = len(matrix)\n",
        "cols = len(matrix[0])\n",
        "\n",
        "for i in range(0, rows):\n",
        "  print(matrix[i])"
      ],
      "metadata": {
        "colab": {
          "base_uri": "https://localhost:8080/"
        },
        "id": "n0JwdDtERl85",
        "outputId": "869251a1-7f29-459a-f3f6-3dc5a1a606c9"
      },
      "execution_count": null,
      "outputs": [
        {
          "output_type": "stream",
          "name": "stdout",
          "text": [
            "[0, 1, 2]\n",
            "[3, 4, 5]\n",
            "[6, 7, 8]\n",
            "[9, 10, 11]\n"
          ]
        }
      ]
    },
    {
      "cell_type": "code",
      "source": [
        "print(\"element on row 2 and column 1: \", matrix[1][0])\n",
        "print(\"element on row 3 and column 2: \", matrix[2][1])"
      ],
      "metadata": {
        "colab": {
          "base_uri": "https://localhost:8080/"
        },
        "id": "16jM1jMpR0HL",
        "outputId": "40cf1280-2eb5-472b-c8b5-e65a16437f3b"
      },
      "execution_count": null,
      "outputs": [
        {
          "output_type": "stream",
          "name": "stdout",
          "text": [
            "element on row 2 and column 1:  3\n",
            "element on row 3 and column 2:  7\n"
          ]
        }
      ]
    },
    {
      "cell_type": "code",
      "source": [
        "mylist = [[1,2,3,4],[5,6,7],['a','b','c'],['d','e']]\n",
        "newlist = []\n",
        "for x in range(len(mylist)):\n",
        "  for y in range (len(mylist[x])):\n",
        "    newlist.append(mylist[x][y])\n",
        "print(newlist)"
      ],
      "metadata": {
        "colab": {
          "base_uri": "https://localhost:8080/"
        },
        "id": "aEEa7co5SYlU",
        "outputId": "7e9da4d5-446d-4db1-b735-ac78be6aa8ef"
      },
      "execution_count": null,
      "outputs": [
        {
          "output_type": "stream",
          "name": "stdout",
          "text": [
            "[1, 2, 3, 4, 5, 6, 7, 'a', 'b', 'c', 'd', 'e']\n"
          ]
        }
      ]
    },
    {
      "cell_type": "markdown",
      "source": [
        "## Dictionaries"
      ],
      "metadata": {
        "id": "U27WDQrpUzIs"
      }
    },
    {
      "cell_type": "code",
      "source": [
        "mydict = {\n",
        "\"employee\" : \"Zara\",\n",
        "\"department\" : \"Operations\",\n",
        "\"last salary\" : 50000\n",
        "}\n",
        "print(mydict)"
      ],
      "metadata": {
        "colab": {
          "base_uri": "https://localhost:8080/"
        },
        "id": "vEMU4SHxU0sU",
        "outputId": "6937e21c-e08d-4021-e0b8-74ca211f3a9e"
      },
      "execution_count": null,
      "outputs": [
        {
          "output_type": "stream",
          "name": "stdout",
          "text": [
            "{'employee': 'Zara', 'department': 'Operations', 'last salary': 50000}\n"
          ]
        }
      ]
    },
    {
      "cell_type": "code",
      "source": [
        "mydict = {\n",
        "\"employee\" : \"Zara\",\n",
        "\"department\" : \"Operations\",\n",
        "\"last salary\" : 50000\n",
        "}\n",
        "print(mydict[\"department\"])"
      ],
      "metadata": {
        "colab": {
          "base_uri": "https://localhost:8080/"
        },
        "id": "jV6b3GuwWMHr",
        "outputId": "f157979b-83be-4029-f1b6-878f35dee47d"
      },
      "execution_count": null,
      "outputs": [
        {
          "output_type": "stream",
          "name": "stdout",
          "text": [
            "Operations\n"
          ]
        }
      ]
    },
    {
      "cell_type": "code",
      "source": [
        "mydict = {\n",
        "\"employee\" : \"Zara\",\n",
        "\"department\" : \"Operations\",\n",
        "\"last salary\" : 50000\n",
        "}\n",
        "mydict[\"department\"] = \"Sales\"\n",
        "print(mydict)\n"
      ],
      "metadata": {
        "colab": {
          "base_uri": "https://localhost:8080/"
        },
        "id": "PbN7WRNcWQfu",
        "outputId": "155a04da-c464-48e8-8b19-2b76fa2a1ca7"
      },
      "execution_count": null,
      "outputs": [
        {
          "output_type": "stream",
          "name": "stdout",
          "text": [
            "{'employee': 'Zara', 'department': 'Sales', 'last salary': 50000}\n"
          ]
        }
      ]
    },
    {
      "cell_type": "code",
      "source": [
        "len(mydict)"
      ],
      "metadata": {
        "colab": {
          "base_uri": "https://localhost:8080/"
        },
        "id": "gDjxON_QWT_Y",
        "outputId": "6dd22c49-fe6e-41b8-a087-2da2757b5679"
      },
      "execution_count": null,
      "outputs": [
        {
          "output_type": "execute_result",
          "data": {
            "text/plain": [
              "3"
            ]
          },
          "metadata": {},
          "execution_count": 149
        }
      ]
    },
    {
      "cell_type": "code",
      "source": [
        "type(mydict)"
      ],
      "metadata": {
        "colab": {
          "base_uri": "https://localhost:8080/"
        },
        "id": "coGasM67XC1y",
        "outputId": "a8597fdd-155c-4722-d94c-bb62de73224a"
      },
      "execution_count": null,
      "outputs": [
        {
          "output_type": "execute_result",
          "data": {
            "text/plain": [
              "dict"
            ]
          },
          "metadata": {},
          "execution_count": 151
        }
      ]
    },
    {
      "cell_type": "markdown",
      "source": [
        "## Nested Dictionaries"
      ],
      "metadata": {
        "id": "u5aAMTn3XN5D"
      }
    },
    {
      "cell_type": "code",
      "source": [
        "mydict= {\n",
        "1: {\"employee\" : \"Zara\",\"department\" : \"Operations\",\"last salary\" :\n",
        "50000},\n",
        "2: {\"employee\" : \"Arjun\",\"department\" : \"Sales\",\"last salary\" :\n",
        "70000}\n",
        "}\n",
        "mydict"
      ],
      "metadata": {
        "colab": {
          "base_uri": "https://localhost:8080/"
        },
        "id": "Erhvg43VXQn_",
        "outputId": "895ad2c7-21b4-4bc2-82af-b865182ecd88"
      },
      "execution_count": null,
      "outputs": [
        {
          "output_type": "execute_result",
          "data": {
            "text/plain": [
              "{1: {'employee': 'Zara', 'department': 'Operations', 'last salary': 50000},\n",
              " 2: {'employee': 'Arjun', 'department': 'Sales', 'last salary': 70000}}"
            ]
          },
          "metadata": {},
          "execution_count": 153
        }
      ]
    },
    {
      "cell_type": "code",
      "source": [
        "mydict[1][\"department\"]"
      ],
      "metadata": {
        "colab": {
          "base_uri": "https://localhost:8080/",
          "height": 36
        },
        "id": "V6oN0bCbXZJy",
        "outputId": "16a85567-9341-4f5c-acbd-af5e6d9c782d"
      },
      "execution_count": null,
      "outputs": [
        {
          "output_type": "execute_result",
          "data": {
            "text/plain": [
              "'Operations'"
            ],
            "application/vnd.google.colaboratory.intrinsic+json": {
              "type": "string"
            }
          },
          "metadata": {},
          "execution_count": 154
        }
      ]
    },
    {
      "cell_type": "code",
      "source": [
        "mydict = {\n",
        "\"employee\" : \"Zara\",\n",
        "\"department\" : \"Operations\",\n",
        "\"last salary\" : 50000\n",
        "}\n",
        "mydictkeys = mydict.keys()\n",
        "print(mydictkeys)\n"
      ],
      "metadata": {
        "colab": {
          "base_uri": "https://localhost:8080/"
        },
        "id": "FXUssE_iXmIh",
        "outputId": "1d41d09b-2f9b-46b0-d8ed-441c9eef24b0"
      },
      "execution_count": null,
      "outputs": [
        {
          "output_type": "stream",
          "name": "stdout",
          "text": [
            "dict_keys(['employee', 'department', 'last salary'])\n"
          ]
        }
      ]
    },
    {
      "cell_type": "code",
      "source": [
        "mydict = {\n",
        "\"employee\" : \"Zara\",\n",
        "\"department\" : \"Operations\",\n",
        "\"last salary\" : 50000\n",
        "}\n",
        "mydictvals = mydict.values()\n",
        "print(mydictvals)"
      ],
      "metadata": {
        "colab": {
          "base_uri": "https://localhost:8080/"
        },
        "id": "a1j1r6WPX3zf",
        "outputId": "fd7b183f-875d-473b-d48b-22eafb603d63"
      },
      "execution_count": null,
      "outputs": [
        {
          "output_type": "stream",
          "name": "stdout",
          "text": [
            "dict_values(['Zara', 'Operations', 50000])\n"
          ]
        }
      ]
    },
    {
      "cell_type": "code",
      "source": [
        "mydict = {\n",
        "\"employee\" : \"Zara\",\n",
        "\"department\" : \"Operations\",\n",
        "\"last salary\" : 50000\n",
        "}\n",
        "mydictvals = mydict.items()\n",
        "print(mydictvals)"
      ],
      "metadata": {
        "colab": {
          "base_uri": "https://localhost:8080/"
        },
        "id": "gaIVv4xGYN8W",
        "outputId": "53c20f51-a6ca-498e-d7b8-70f5027ea075"
      },
      "execution_count": null,
      "outputs": [
        {
          "output_type": "stream",
          "name": "stdout",
          "text": [
            "dict_items([('employee', 'Zara'), ('department', 'Operations'), ('last salary', 50000)])\n"
          ]
        }
      ]
    },
    {
      "cell_type": "code",
      "source": [
        "type(list(key))"
      ],
      "metadata": {
        "colab": {
          "base_uri": "https://localhost:8080/",
          "height": 171
        },
        "id": "aRvbiGiCYQmH",
        "outputId": "7a2ddb34-9504-4cde-c04e-77516338d3c6"
      },
      "execution_count": null,
      "outputs": [
        {
          "output_type": "error",
          "ename": "NameError",
          "evalue": "ignored",
          "traceback": [
            "\u001b[0;31m---------------------------------------------------------------------------\u001b[0m",
            "\u001b[0;31mNameError\u001b[0m                                 Traceback (most recent call last)",
            "\u001b[0;32m<ipython-input-161-1ca7cd1e758f>\u001b[0m in \u001b[0;36m<cell line: 1>\u001b[0;34m()\u001b[0m\n\u001b[0;32m----> 1\u001b[0;31m \u001b[0mtype\u001b[0m\u001b[0;34m(\u001b[0m\u001b[0mlist\u001b[0m\u001b[0;34m(\u001b[0m\u001b[0mkey\u001b[0m\u001b[0;34m)\u001b[0m\u001b[0;34m)\u001b[0m\u001b[0;34m\u001b[0m\u001b[0;34m\u001b[0m\u001b[0m\n\u001b[0m",
            "\u001b[0;31mNameError\u001b[0m: name 'key' is not defined"
          ]
        }
      ]
    },
    {
      "cell_type": "code",
      "source": [
        "mydict = {\n",
        "\"employee\" : \"Zara\",\n",
        "\"department\" : \"Operations\",\n",
        "\"last salary\" : 50000\n",
        "}\n",
        "if \"department\" in mydict:\n",
        "  print(\"Yes key value = department is present in this dict\")"
      ],
      "metadata": {
        "colab": {
          "base_uri": "https://localhost:8080/"
        },
        "id": "k63k0HTIYadg",
        "outputId": "c5da333c-239f-4880-b350-d73cf2f7edfd"
      },
      "execution_count": null,
      "outputs": [
        {
          "output_type": "stream",
          "name": "stdout",
          "text": [
            "Yes key value = department is present in this dict\n"
          ]
        }
      ]
    },
    {
      "cell_type": "code",
      "source": [
        "mydict = {\n",
        "\"employee\" : \"Zara\",\n",
        "\"department\" : \"Operations\",\n",
        "\"last salary\" : 50000\n",
        "}\n",
        "mydict.update({\"last salary\" : 80000}) #Update a key value\n",
        "mydict.update({\"status\" : \"permanent\", \"level\" : 3}) #Add new key:values\n",
        "print(mydict)\n"
      ],
      "metadata": {
        "colab": {
          "base_uri": "https://localhost:8080/"
        },
        "id": "bFFrATFAYpdt",
        "outputId": "0dae2f42-fa70-474a-91a6-a46944312306"
      },
      "execution_count": null,
      "outputs": [
        {
          "output_type": "stream",
          "name": "stdout",
          "text": [
            "{'employee': 'Zara', 'department': 'Operations', 'last salary': 80000, 'status': 'permanent', 'level': 3}\n"
          ]
        }
      ]
    },
    {
      "cell_type": "code",
      "source": [
        "mydict = {\n",
        "\"employee\" : \"Zara\",\n",
        "\"department\" : \"Operations\",\n",
        "\"last salary\" : 50000,\n",
        "\"status\" : \"permanent\",\n",
        "\"level\" : 3\n",
        "}\n",
        "mydict.pop(\"level\")\n",
        "print(mydict)"
      ],
      "metadata": {
        "colab": {
          "base_uri": "https://localhost:8080/"
        },
        "id": "mzLWuDx_ZAhs",
        "outputId": "087a1ddd-f52f-4828-df28-28da455dcee5"
      },
      "execution_count": null,
      "outputs": [
        {
          "output_type": "stream",
          "name": "stdout",
          "text": [
            "{'employee': 'Zara', 'department': 'Operations', 'last salary': 50000, 'status': 'permanent'}\n"
          ]
        }
      ]
    },
    {
      "cell_type": "code",
      "source": [
        "(a)\n",
        "mydict = {\n",
        "\"employee\" : \"Zara\",\n",
        "\"department\" : \"Operations\",\n",
        "\"last salary\" : 50000,\n",
        "\"status\" : \"permanent\",\n",
        "\"level\" : 3\n",
        "}\n",
        "del mydict[\"level\"]\n",
        "mydict"
      ],
      "metadata": {
        "colab": {
          "base_uri": "https://localhost:8080/"
        },
        "id": "Eg_DT0gPZEXR",
        "outputId": "ae43a9e5-3fd7-45f2-b220-8d3f75c27dd1"
      },
      "execution_count": null,
      "outputs": [
        {
          "output_type": "execute_result",
          "data": {
            "text/plain": [
              "{'employee': 'Zara',\n",
              " 'department': 'Operations',\n",
              " 'last salary': 50000,\n",
              " 'status': 'permanent'}"
            ]
          },
          "metadata": {},
          "execution_count": 169
        }
      ]
    },
    {
      "cell_type": "code",
      "source": [
        "(b)\n",
        "mydict = {\n",
        "\"employee\" : \"Zara\",\n",
        "\"department\" : \"Operations\",\n",
        "\"last salary\" : 50000,\n",
        "\"status\" : \"permanent\",\n",
        "\"level\" : 3\n",
        "}\n",
        "del mydict\n",
        "mydict"
      ],
      "metadata": {
        "colab": {
          "base_uri": "https://localhost:8080/",
          "height": 207
        },
        "id": "DRotGozcZIhp",
        "outputId": "8e66f2be-0764-45c0-998a-5dc5a9c3803e"
      },
      "execution_count": null,
      "outputs": [
        {
          "output_type": "error",
          "ename": "NameError",
          "evalue": "ignored",
          "traceback": [
            "\u001b[0;31m---------------------------------------------------------------------------\u001b[0m",
            "\u001b[0;31mNameError\u001b[0m                                 Traceback (most recent call last)",
            "\u001b[0;32m<ipython-input-170-978cd70dc60e>\u001b[0m in \u001b[0;36m<cell line: 10>\u001b[0;34m()\u001b[0m\n\u001b[1;32m      8\u001b[0m }\n\u001b[1;32m      9\u001b[0m \u001b[0;32mdel\u001b[0m \u001b[0mmydict\u001b[0m\u001b[0;34m\u001b[0m\u001b[0;34m\u001b[0m\u001b[0m\n\u001b[0;32m---> 10\u001b[0;31m \u001b[0mmydict\u001b[0m\u001b[0;34m\u001b[0m\u001b[0;34m\u001b[0m\u001b[0m\n\u001b[0m",
            "\u001b[0;31mNameError\u001b[0m: name 'mydict' is not defined"
          ]
        }
      ]
    },
    {
      "cell_type": "code",
      "source": [
        "mydict = {\n",
        "\"employee\" : \"Zara\",\n",
        "\"department\" : \"Operations\",\n",
        "\"last salary\" : 50000,\n",
        "\"status\" : \"permanent\",\n",
        "\"level\" : 3\n",
        "}\n",
        "mydict.clear()\n",
        "print(mydict)\n"
      ],
      "metadata": {
        "colab": {
          "base_uri": "https://localhost:8080/"
        },
        "id": "l5MsHRoiZcFW",
        "outputId": "4132f270-348a-4ee6-f0fe-61952047bb44"
      },
      "execution_count": null,
      "outputs": [
        {
          "output_type": "stream",
          "name": "stdout",
          "text": [
            "{}\n"
          ]
        }
      ]
    },
    {
      "cell_type": "code",
      "source": [
        "mydict = {\n",
        "\"employee\" : \"Zara\",\n",
        "\"department\" : \"Operations\",\n",
        "\"last salary\" : 50000,\n",
        "\"status\" : \"permanent\",\n",
        "\"level\" : 3\n",
        "}\n",
        "for item in mydict.values():\n",
        "  print(item)\n"
      ],
      "metadata": {
        "colab": {
          "base_uri": "https://localhost:8080/"
        },
        "id": "TTjTbN1OZjkv",
        "outputId": "f6caeb32-f81f-4bae-d63a-d6871b8ace11"
      },
      "execution_count": null,
      "outputs": [
        {
          "output_type": "stream",
          "name": "stdout",
          "text": [
            "Zara\n",
            "Operations\n",
            "50000\n",
            "permanent\n",
            "3\n"
          ]
        }
      ]
    },
    {
      "cell_type": "code",
      "source": [
        "mydict = {\n",
        "\"employee\" : \"Zara\",\n",
        "\"department\" : \"Operations\",\n",
        "\"last salary\" : 50000,\n",
        "\"status\" : \"permanent\",\n",
        "\"level\" : 3\n",
        "}\n",
        "for keys,values in mydict.items():\n",
        "  print(keys,values)"
      ],
      "metadata": {
        "colab": {
          "base_uri": "https://localhost:8080/"
        },
        "id": "22Y0T9GLZn8n",
        "outputId": "82f55268-385c-4f68-bbeb-106318aed3db"
      },
      "execution_count": null,
      "outputs": [
        {
          "output_type": "stream",
          "name": "stdout",
          "text": [
            "employee Zara\n",
            "department Operations\n",
            "last salary 50000\n",
            "status permanent\n",
            "level 3\n"
          ]
        }
      ]
    },
    {
      "cell_type": "code",
      "source": [
        "for keys,values in mydict.items():\n",
        "  print(keys,values)\n",
        "delete= \"employee\"\n",
        "mydict.pop(delete)\n",
        "print(\"Updated Dict is:\")\n",
        "for keys,values in mydict.items():\n",
        "  print(keys, values)"
      ],
      "metadata": {
        "colab": {
          "base_uri": "https://localhost:8080/"
        },
        "id": "6YDnZo1xaKRK",
        "outputId": "beb2e989-b975-4945-938b-a530fb577c2d"
      },
      "execution_count": null,
      "outputs": [
        {
          "output_type": "stream",
          "name": "stdout",
          "text": [
            "employee Zara\n",
            "department Operations\n",
            "last salary 50000\n",
            "status permanent\n",
            "level 3\n",
            "Updated Dict is:\n",
            "department Operations\n",
            "last salary 50000\n",
            "status permanent\n",
            "level 3\n"
          ]
        }
      ]
    },
    {
      "cell_type": "code",
      "source": [
        "for keys,values in mydict.items():\n",
        "  print(keys,values)\n",
        "delete= \"last salary\"\n",
        "mydict.pop(delete)\n",
        "print(\"Updated Dict is:\")\n",
        "for keys,values in mydict.items():\n",
        "  print(keys, values)"
      ],
      "metadata": {
        "colab": {
          "base_uri": "https://localhost:8080/"
        },
        "id": "WMDP_A-Fazd-",
        "outputId": "3780f694-eb31-406b-8e41-9949d60d9c15"
      },
      "execution_count": null,
      "outputs": [
        {
          "output_type": "stream",
          "name": "stdout",
          "text": [
            "department Operations\n",
            "last salary 50000\n",
            "status permanent\n",
            "level 3\n",
            "Updated Dict is:\n",
            "department Operations\n",
            "status permanent\n",
            "level 3\n"
          ]
        }
      ]
    },
    {
      "cell_type": "code",
      "source": [
        "for keys,values in mydict.items():\n",
        "  print(keys,values)\n",
        "mydict.update=({last salary\":100000})\n",
        "for keys,values in mydict.items():\n",
        "  print(keys, values)"
      ],
      "metadata": {
        "colab": {
          "base_uri": "https://localhost:8080/",
          "height": 134
        },
        "id": "vBuPum6SbUyx",
        "outputId": "fb0b0e3a-8ba0-4242-b552-bbea1692c514"
      },
      "execution_count": null,
      "outputs": [
        {
          "output_type": "error",
          "ename": "SyntaxError",
          "evalue": "ignored",
          "traceback": [
            "\u001b[0;36m  File \u001b[0;32m\"<ipython-input-180-cf6257d5849a>\"\u001b[0;36m, line \u001b[0;32m3\u001b[0m\n\u001b[0;31m    mydict.update=({last salary\":100000})\u001b[0m\n\u001b[0m                               ^\u001b[0m\n\u001b[0;31mSyntaxError\u001b[0m\u001b[0;31m:\u001b[0m unterminated string literal (detected at line 3)\n"
          ]
        }
      ]
    },
    {
      "cell_type": "markdown",
      "source": [
        "## Tuples"
      ],
      "metadata": {
        "id": "fxLXLe2CaCwi"
      }
    },
    {
      "cell_type": "code",
      "source": [
        "mytuple= (\"Audi\", \"Ford\", \"Tesla\", \"Lion\")\n",
        "mylist = list(mytuple)\n",
        "mylist [2] = \"Tiger\"\n",
        "mytuple = tuple(mylist)\n",
        "print(mytuple)\n",
        "\n"
      ],
      "metadata": {
        "id": "rPPVSOQzaEXE"
      },
      "execution_count": null,
      "outputs": []
    },
    {
      "cell_type": "code",
      "source": [
        "mytuple= (\"Audi\", \"Ford\", \"Tesla\", \"Audi\", 50000, True)\n",
        "print(mytuple[3]) #Indexing\n",
        "print(mytuple[-1]) #negative indexing\n",
        "print(mytuple[0:3]) #slicing"
      ],
      "metadata": {
        "colab": {
          "base_uri": "https://localhost:8080/"
        },
        "id": "Wh9n-Zqob1kP",
        "outputId": "15b0f791-dd2f-43e4-9441-74862f4e652b"
      },
      "execution_count": null,
      "outputs": [
        {
          "output_type": "stream",
          "name": "stdout",
          "text": [
            "Audi\n",
            "True\n",
            "('Audi', 'Ford', 'Tesla')\n"
          ]
        }
      ]
    },
    {
      "cell_type": "code",
      "source": [
        "mytuple= (\"Audi\", \"Ford\", \"Tesla\", \"Audi\")\n",
        "mylist = list(mytuple) #Using list constructor, convert tuples to list\n",
        "mylist [1] = \"Toyota\" #Make the change you want\n",
        "mytuple= tuple(mylist) #Convert list back to tuple using tuple\n",
        "print(mytuple)"
      ],
      "metadata": {
        "colab": {
          "base_uri": "https://localhost:8080/"
        },
        "id": "gMYLe2eCc6HL",
        "outputId": "ee65042d-ff9d-4229-c28a-64b2666651fd"
      },
      "execution_count": null,
      "outputs": [
        {
          "output_type": "stream",
          "name": "stdout",
          "text": [
            "('Audi', 'Toyota', 'Tesla', 'Audi')\n"
          ]
        }
      ]
    },
    {
      "cell_type": "code",
      "source": [
        "mytuple= (\"Audi\", \"Ford\", \"Tesla\")\n",
        "print(mytuple.index(\"Tesla\"))"
      ],
      "metadata": {
        "colab": {
          "base_uri": "https://localhost:8080/"
        },
        "id": "y5vWjOi7c78X",
        "outputId": "b73a2223-69c6-471e-aebb-a1304e83ce77"
      },
      "execution_count": null,
      "outputs": [
        {
          "output_type": "stream",
          "name": "stdout",
          "text": [
            "2\n"
          ]
        }
      ]
    },
    {
      "cell_type": "code",
      "source": [
        "mytuple= (\"Audi\", \"Ford\", \"Audi\", \"Tesla\", \"Audi\")\n",
        "print(mytuple.count(\"Audi\"))"
      ],
      "metadata": {
        "colab": {
          "base_uri": "https://localhost:8080/"
        },
        "id": "jKL8ndSvdYd2",
        "outputId": "3b4aec25-63a8-4687-d459-173562eadae6"
      },
      "execution_count": null,
      "outputs": [
        {
          "output_type": "stream",
          "name": "stdout",
          "text": [
            "3\n"
          ]
        }
      ]
    },
    {
      "cell_type": "code",
      "source": [
        "mytuple= (\"Audi\", \"Ford\", \"Tesla\")\n",
        "for item in range(len(mytuple)):\n",
        "  print(mytuple[item])"
      ],
      "metadata": {
        "colab": {
          "base_uri": "https://localhost:8080/"
        },
        "id": "UP4tgxuYdYlX",
        "outputId": "d593c199-3ae9-4125-818c-c883be40a8fe"
      },
      "execution_count": null,
      "outputs": [
        {
          "output_type": "stream",
          "name": "stdout",
          "text": [
            "Audi\n",
            "Ford\n",
            "Tesla\n"
          ]
        }
      ]
    },
    {
      "cell_type": "code",
      "source": [
        "mytuple= (\"Audi\", \"Ford\", \"Tesla\") #Packing\n",
        "car1,car2,car3 = mytuple #unpacking\n",
        "print(car1)\n",
        "print(car2)\n",
        "print(car3)\n"
      ],
      "metadata": {
        "colab": {
          "base_uri": "https://localhost:8080/"
        },
        "id": "dWbQRvXydeBK",
        "outputId": "a7e896c8-4e96-4841-d282-c95aaba2de91"
      },
      "execution_count": null,
      "outputs": [
        {
          "output_type": "stream",
          "name": "stdout",
          "text": [
            "Audi\n",
            "Ford\n",
            "Tesla\n"
          ]
        }
      ]
    },
    {
      "cell_type": "markdown",
      "source": [
        "## SETS"
      ],
      "metadata": {
        "id": "VyVes4KIdC2R"
      }
    },
    {
      "cell_type": "code",
      "source": [],
      "metadata": {
        "id": "6M-yFGW5dD-p"
      },
      "execution_count": null,
      "outputs": []
    },
    {
      "cell_type": "markdown",
      "source": [
        "## Library and Funcations"
      ],
      "metadata": {
        "id": "w9V7rzC6d1LP"
      }
    },
    {
      "cell_type": "code",
      "source": [],
      "metadata": {
        "id": "6R2HMXPmd4c6"
      },
      "execution_count": null,
      "outputs": []
    }
  ]
}